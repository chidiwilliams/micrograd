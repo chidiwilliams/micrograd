{
 "cells": [
  {
   "cell_type": "code",
   "execution_count": 4,
   "metadata": {},
   "outputs": [
    {
     "name": "stdout",
     "output_type": "stream",
     "text": [
      "Requirement already satisfied: graphviz in ./.venv/lib/python3.10/site-packages (0.20.1)\n",
      "Requirement already satisfied: numpy in ./.venv/lib/python3.10/site-packages (1.24.2)\n",
      "Requirement already satisfied: matplotlib in ./.venv/lib/python3.10/site-packages (3.7.1)\n",
      "Requirement already satisfied: python-dateutil>=2.7 in ./.venv/lib/python3.10/site-packages (from matplotlib) (2.8.2)\n",
      "Requirement already satisfied: packaging>=20.0 in ./.venv/lib/python3.10/site-packages (from matplotlib) (23.0)\n",
      "Requirement already satisfied: pyparsing>=2.3.1 in ./.venv/lib/python3.10/site-packages (from matplotlib) (3.0.9)\n",
      "Requirement already satisfied: contourpy>=1.0.1 in ./.venv/lib/python3.10/site-packages (from matplotlib) (1.0.7)\n",
      "Requirement already satisfied: cycler>=0.10 in ./.venv/lib/python3.10/site-packages (from matplotlib) (0.11.0)\n",
      "Requirement already satisfied: pillow>=6.2.0 in ./.venv/lib/python3.10/site-packages (from matplotlib) (9.5.0)\n",
      "Requirement already satisfied: kiwisolver>=1.0.1 in ./.venv/lib/python3.10/site-packages (from matplotlib) (1.4.4)\n",
      "Requirement already satisfied: fonttools>=4.22.0 in ./.venv/lib/python3.10/site-packages (from matplotlib) (4.39.3)\n",
      "Requirement already satisfied: six>=1.5 in ./.venv/lib/python3.10/site-packages (from python-dateutil>=2.7->matplotlib) (1.16.0)\n"
     ]
    }
   ],
   "source": [
    "!pip install graphviz numpy matplotlib\n"
   ]
  },
  {
   "cell_type": "code",
   "execution_count": 5,
   "metadata": {},
   "outputs": [],
   "source": [
    "import matplotlib.pyplot as plt\n",
    "import numpy as np\n",
    "import math\n",
    "import os\n",
    "os.environ[\"PATH\"] += os.pathsep + \"/opt/homebrew/bin\"\n",
    "\n",
    "%matplotlib inline\n"
   ]
  },
  {
   "cell_type": "code",
   "execution_count": 6,
   "metadata": {},
   "outputs": [],
   "source": [
    "def f(x):\n",
    "    return 3 * x ** 2 - 4 * x + 5\n"
   ]
  },
  {
   "cell_type": "code",
   "execution_count": 7,
   "metadata": {},
   "outputs": [
    {
     "data": {
      "text/plain": [
       "20.0"
      ]
     },
     "execution_count": 7,
     "metadata": {},
     "output_type": "execute_result"
    }
   ],
   "source": [
    "f(3.0)\n"
   ]
  },
  {
   "cell_type": "code",
   "execution_count": 8,
   "metadata": {},
   "outputs": [
    {
     "data": {
      "text/plain": [
       "[<matplotlib.lines.Line2D at 0x13776ca60>]"
      ]
     },
     "execution_count": 8,
     "metadata": {},
     "output_type": "execute_result"
    },
    {
     "data": {
      "image/png": "[encoded data removed]",
      "text/plain": [
       "<Figure size 640x480 with 1 Axes>"
      ]
     },
     "metadata": {},
     "output_type": "display_data"
    }
   ],
   "source": [
    "xs = np.arange(-5, 5, 0.25)\n",
    "ys = f(xs)\n",
    "plt.plot(xs, ys)\n"
   ]
  },
  {
   "cell_type": "code",
   "execution_count": 9,
   "metadata": {},
   "outputs": [
    {
     "data": {
      "text/plain": [
       "0.0"
      ]
     },
     "execution_count": 9,
     "metadata": {},
     "output_type": "execute_result"
    }
   ],
   "source": [
    "h = 0.000000001\n",
    "x = 2/3\n",
    "(f(x + h) - f(x)) / h\n"
   ]
  },
  {
   "cell_type": "code",
   "execution_count": 85,
   "metadata": {},
   "outputs": [
    {
     "data": {
      "text/plain": [
       "Value(data=-8.0)"
      ]
     },
     "execution_count": 85,
     "metadata": {},
     "output_type": "execute_result"
    }
   ],
   "source": [
    "class Value:\n",
    "    def __init__(self, data: float, _children=(), _op='', label='') -> None:\n",
    "        self.data = data\n",
    "        self.grad = 0.0\n",
    "        self._backward = lambda: None\n",
    "        self._prev = set(_children)\n",
    "        self._op = _op\n",
    "        self.label = label\n",
    "\n",
    "    def __repr__(self) -> str:\n",
    "        return f\"Value(data={self.data})\"\n",
    "\n",
    "    def __add__(self, other):\n",
    "        other = other if isinstance(other, Value) else Value(other)\n",
    "        out = Value(self.data + other.data, (self, other), '+')\n",
    "\n",
    "        def _backward():\n",
    "            self.grad += 1.0 * out.grad\n",
    "            other.grad += 1.0 * out.grad\n",
    "\n",
    "        out._backward = _backward\n",
    "        return out\n",
    "\n",
    "    def __radd__(self, other):\n",
    "        return self + other\n",
    "\n",
    "    def __neg__(self):\n",
    "        return self * -1\n",
    "\n",
    "    def __sub__(self, other):\n",
    "        return self + (-other)\n",
    "\n",
    "    def __mul__(self, other):\n",
    "        other = other if isinstance(other, Value) else Value(other)\n",
    "        out = Value(self.data * other.data, (self, other), '*')\n",
    "\n",
    "        def _backward():\n",
    "            self.grad += other.data * out.grad\n",
    "            other.grad += self.data * out.grad\n",
    "\n",
    "        out._backward = _backward\n",
    "        return out\n",
    "\n",
    "    def __rmul__(self, other):\n",
    "        return self * other\n",
    "\n",
    "    def __pow__(self, other):\n",
    "        assert isinstance(other, (int, float)\n",
    "                          ), \"only supporting int/floats for now\"\n",
    "        out = Value(self.data**other, (self, ), f'**{other}')\n",
    "\n",
    "        def _backward():\n",
    "            self.grad += other * self.data ** (other - 1) * out.grad\n",
    "\n",
    "        out._backward = _backward\n",
    "        return out\n",
    "\n",
    "    def __truediv__(self, other):\n",
    "        return self * other ** -1\n",
    "\n",
    "    def exp(self):\n",
    "        x = self.data\n",
    "        out = Value(math.exp(x), (self, ), 'exp')\n",
    "\n",
    "        def _backward():\n",
    "            self.grad += out.data * out.grad\n",
    "\n",
    "        out._backward = _backward\n",
    "        return out\n",
    "\n",
    "    def tanh(self):\n",
    "        n = self.data\n",
    "        t = (math.exp(2 * n) - 1) / (math.exp(2 * n) + 1)\n",
    "        out = Value(t, (self, ), 'tanh')\n",
    "\n",
    "        def _backward():\n",
    "            self.grad += (1 - t**2) * out.grad\n",
    "\n",
    "        out._backward = _backward\n",
    "        return out\n",
    "\n",
    "    def backward(self):\n",
    "        topo = []\n",
    "        visited = set()\n",
    "\n",
    "        def build_topo(v):\n",
    "            if v not in visited:\n",
    "                visited.add(v)\n",
    "                for child in v._prev:\n",
    "                    build_topo(child)\n",
    "                topo.append(v)\n",
    "\n",
    "        build_topo(self)\n",
    "\n",
    "        self.grad = 1.0\n",
    "        for node in reversed(topo):\n",
    "            node._backward()\n",
    "\n",
    "\n",
    "a = Value(2.0, label='a')\n",
    "b = Value(-3.0, label='b')\n",
    "c = Value(10.0, label='c')\n",
    "e = a * b\n",
    "e.label = 'e'\n",
    "d = e + c\n",
    "d.label = 'd'\n",
    "f = Value(-2.0, label='f')\n",
    "L = d * f\n",
    "L.label = 'L'\n",
    "L\n"
   ]
  },
  {
   "cell_type": "code",
   "execution_count": 11,
   "metadata": {},
   "outputs": [],
   "source": [
    "from graphviz import Digraph\n",
    "\n",
    "\n",
    "def trace(root):\n",
    "    # builds a set of all nodes and edges in a graph\n",
    "    nodes, edges = set(), set()\n",
    "\n",
    "    def build(v):\n",
    "        if v not in nodes:\n",
    "            nodes.add(v)\n",
    "            for child in v._prev:\n",
    "                edges.add((child, v))\n",
    "                build(child)\n",
    "\n",
    "    build(root)\n",
    "    return nodes, edges\n",
    "\n",
    "\n",
    "def draw_dot(root):\n",
    "    dot = Digraph(format='svg', graph_attr={'rankdir': 'LR'})\n",
    "    nodes, edges = trace(root)\n",
    "    for n in nodes:\n",
    "        uid = str(id(n))\n",
    "        dot.node(name=uid, label=\"{ %s | data %.4f | grad %.4f }\" %\n",
    "                 (n.label, n.data, n.grad), shape='record')\n",
    "        if n._op:\n",
    "            dot.node(name=uid + n._op, label=n._op)\n",
    "            dot.edge(uid + n._op, uid)\n",
    "\n",
    "    for n1, n2 in edges:\n",
    "        dot.edge(str(id(n1)), str(id(n2)) + n2._op)\n",
    "\n",
    "    return dot\n"
   ]
  },
  {
   "cell_type": "code",
   "execution_count": 12,
   "metadata": {},
   "outputs": [
    {
     "data": {
      "image/svg+xml": "<?xml version=\"1.0\" encoding=\"UTF-8\" standalone=\"no\"?>\n<!DOCTYPE svg PUBLIC \"-//W3C//DTD SVG 1.1//EN\"\n \"http://www.w3.org/Graphics/SVG/1.1/DTD/svg11.dtd\">\n<!-- Generated by graphviz version 8.0.1 (20230327.1645)\n -->\n<!-- Pages: 1 -->\n<svg width=\"1148pt\" height=\"156pt\"\n viewBox=\"0.00 0.00 1148.00 156.00\" xmlns=\"http://www.w3.org/2000/svg\" xmlns:xlink=\"http://www.w3.org/1999/xlink\">\n<g id=\"graph0\" class=\"graph\" transform=\"scale(1 1) rotate(0) translate(4 152)\">\n<polygon fill=\"white\" stroke=\"none\" points=\"-4,4 -4,-152 1144,-152 1144,4 -4,4\"/>\n<!-- 5226921648 -->\n<g id=\"node1\" class=\"node\">\n<title>5226921648</title>\n<polygon fill=\"none\" stroke=\"black\" points=\"948,-27.5 948,-63.5 1140,-63.5 1140,-27.5 948,-27.5\"/>\n<text text-anchor=\"middle\" x=\"960.5\" y=\"-41.8\" font-family=\"Times,serif\" font-size=\"14.00\">L</text>\n<polyline fill=\"none\" stroke=\"black\" points=\"973,-27.5 973,-63.5\"/>\n<text text-anchor=\"middle\" x=\"1015.5\" y=\"-41.8\" font-family=\"Times,serif\" font-size=\"14.00\">data &#45;8.0000</text>\n<polyline fill=\"none\" stroke=\"black\" points=\"1058,-27.5 1058,-63.5\"/>\n<text text-anchor=\"middle\" x=\"1099\" y=\"-41.8\" font-family=\"Times,serif\" font-size=\"14.00\">grad 0.0000</text>\n</g>\n<!-- 5226921648* -->\n<g id=\"node2\" class=\"node\">\n<title>5226921648*</title>\n<ellipse fill=\"none\" stroke=\"black\" cx=\"885\" cy=\"-45.5\" rx=\"27\" ry=\"18\"/>\n<text text-anchor=\"middle\" x=\"885\" y=\"-41.8\" font-family=\"Times,serif\" font-size=\"14.00\">*</text>\n</g>\n<!-- 5226921648*&#45;&gt;5226921648 -->\n<g id=\"edge1\" class=\"edge\">\n<title>5226921648*&#45;&gt;5226921648</title>\n<path fill=\"none\" stroke=\"black\" d=\"M912.28,-45.5C919.68,-45.5 928.22,-45.5 937.31,-45.5\"/>\n<polygon fill=\"black\" stroke=\"black\" points=\"937.21,-49 947.21,-45.5 937.21,-42 937.21,-49\"/>\n</g>\n<!-- 5226921216 -->\n<g id=\"node3\" class=\"node\">\n<title>5226921216</title>\n<polygon fill=\"none\" stroke=\"black\" points=\"317,-83.5 317,-119.5 507,-119.5 507,-83.5 317,-83.5\"/>\n<text text-anchor=\"middle\" x=\"328.5\" y=\"-97.8\" font-family=\"Times,serif\" font-size=\"14.00\">e</text>\n<polyline fill=\"none\" stroke=\"black\" points=\"340,-83.5 340,-119.5\"/>\n<text text-anchor=\"middle\" x=\"382.5\" y=\"-97.8\" font-family=\"Times,serif\" font-size=\"14.00\">data &#45;6.0000</text>\n<polyline fill=\"none\" stroke=\"black\" points=\"425,-83.5 425,-119.5\"/>\n<text text-anchor=\"middle\" x=\"466\" y=\"-97.8\" font-family=\"Times,serif\" font-size=\"14.00\">grad 0.0000</text>\n</g>\n<!-- 5226921408+ -->\n<g id=\"node8\" class=\"node\">\n<title>5226921408+</title>\n<ellipse fill=\"none\" stroke=\"black\" cx=\"571\" cy=\"-73.5\" rx=\"27\" ry=\"18\"/>\n<text text-anchor=\"middle\" x=\"571\" y=\"-69.8\" font-family=\"Times,serif\" font-size=\"14.00\">+</text>\n</g>\n<!-- 5226921216&#45;&gt;5226921408+ -->\n<g id=\"edge6\" class=\"edge\">\n<title>5226921216&#45;&gt;5226921408+</title>\n<path fill=\"none\" stroke=\"black\" d=\"M506.59,-84.81C516.17,-83.1 525.43,-81.45 533.78,-79.96\"/>\n<polygon fill=\"black\" stroke=\"black\" points=\"534.31,-83.24 543.54,-78.04 533.08,-76.35 534.31,-83.24\"/>\n</g>\n<!-- 5226921216* -->\n<g id=\"node4\" class=\"node\">\n<title>5226921216*</title>\n<ellipse fill=\"none\" stroke=\"black\" cx=\"253\" cy=\"-101.5\" rx=\"27\" ry=\"18\"/>\n<text text-anchor=\"middle\" x=\"253\" y=\"-97.8\" font-family=\"Times,serif\" font-size=\"14.00\">*</text>\n</g>\n<!-- 5226921216*&#45;&gt;5226921216 -->\n<g id=\"edge2\" class=\"edge\">\n<title>5226921216*&#45;&gt;5226921216</title>\n<path fill=\"none\" stroke=\"black\" d=\"M280.28,-101.5C287.95,-101.5 296.85,-101.5 306.31,-101.5\"/>\n<polygon fill=\"black\" stroke=\"black\" points=\"306.21,-105 316.21,-101.5 306.21,-98 306.21,-105\"/>\n</g>\n<!-- 5226919248 -->\n<g id=\"node5\" class=\"node\">\n<title>5226919248</title>\n<polygon fill=\"none\" stroke=\"black\" points=\"2.5,-111.5 2.5,-147.5 187.5,-147.5 187.5,-111.5 2.5,-111.5\"/>\n<text text-anchor=\"middle\" x=\"14\" y=\"-125.8\" font-family=\"Times,serif\" font-size=\"14.00\">a</text>\n<polyline fill=\"none\" stroke=\"black\" points=\"25.5,-111.5 25.5,-147.5\"/>\n<text text-anchor=\"middle\" x=\"65.5\" y=\"-125.8\" font-family=\"Times,serif\" font-size=\"14.00\">data 2.0000</text>\n<polyline fill=\"none\" stroke=\"black\" points=\"105.5,-111.5 105.5,-147.5\"/>\n<text text-anchor=\"middle\" x=\"146.5\" y=\"-125.8\" font-family=\"Times,serif\" font-size=\"14.00\">grad 0.0000</text>\n</g>\n<!-- 5226919248&#45;&gt;5226921216* -->\n<g id=\"edge4\" class=\"edge\">\n<title>5226919248&#45;&gt;5226921216*</title>\n<path fill=\"none\" stroke=\"black\" d=\"M187.2,-113.13C197.32,-111.31 207.14,-109.55 215.95,-107.97\"/>\n<polygon fill=\"black\" stroke=\"black\" points=\"216.28,-111.29 225.51,-106.08 215.05,-104.4 216.28,-111.29\"/>\n</g>\n<!-- 5226919344 -->\n<g id=\"node6\" class=\"node\">\n<title>5226919344</title>\n<polygon fill=\"none\" stroke=\"black\" points=\"0,-56.5 0,-92.5 190,-92.5 190,-56.5 0,-56.5\"/>\n<text text-anchor=\"middle\" x=\"11.5\" y=\"-70.8\" font-family=\"Times,serif\" font-size=\"14.00\">b</text>\n<polyline fill=\"none\" stroke=\"black\" points=\"23,-56.5 23,-92.5\"/>\n<text text-anchor=\"middle\" x=\"65.5\" y=\"-70.8\" font-family=\"Times,serif\" font-size=\"14.00\">data &#45;3.0000</text>\n<polyline fill=\"none\" stroke=\"black\" points=\"108,-56.5 108,-92.5\"/>\n<text text-anchor=\"middle\" x=\"149\" y=\"-70.8\" font-family=\"Times,serif\" font-size=\"14.00\">grad 0.0000</text>\n</g>\n<!-- 5226919344&#45;&gt;5226921216* -->\n<g id=\"edge8\" class=\"edge\">\n<title>5226919344&#45;&gt;5226921216*</title>\n<path fill=\"none\" stroke=\"black\" d=\"M189.9,-90.75C199.02,-92.33 207.84,-93.86 215.83,-95.24\"/>\n<polygon fill=\"black\" stroke=\"black\" points=\"215.06,-98.83 225.51,-97.09 216.26,-91.93 215.06,-98.83\"/>\n</g>\n<!-- 5226921408 -->\n<g id=\"node7\" class=\"node\">\n<title>5226921408</title>\n<polygon fill=\"none\" stroke=\"black\" points=\"635.5,-55.5 635.5,-91.5 820.5,-91.5 820.5,-55.5 635.5,-55.5\"/>\n<text text-anchor=\"middle\" x=\"647\" y=\"-69.8\" font-family=\"Times,serif\" font-size=\"14.00\">d</text>\n<polyline fill=\"none\" stroke=\"black\" points=\"658.5,-55.5 658.5,-91.5\"/>\n<text text-anchor=\"middle\" x=\"698.5\" y=\"-69.8\" font-family=\"Times,serif\" font-size=\"14.00\">data 4.0000</text>\n<polyline fill=\"none\" stroke=\"black\" points=\"738.5,-55.5 738.5,-91.5\"/>\n<text text-anchor=\"middle\" x=\"779.5\" y=\"-69.8\" font-family=\"Times,serif\" font-size=\"14.00\">grad 0.0000</text>\n</g>\n<!-- 5226921408&#45;&gt;5226921648* -->\n<g id=\"edge7\" class=\"edge\">\n<title>5226921408&#45;&gt;5226921648*</title>\n<path fill=\"none\" stroke=\"black\" d=\"M820.06,-57.05C829.87,-55.28 839.37,-53.56 847.93,-52.02\"/>\n<polygon fill=\"black\" stroke=\"black\" points=\"848.35,-55.32 857.56,-50.09 847.1,-48.43 848.35,-55.32\"/>\n</g>\n<!-- 5226921408+&#45;&gt;5226921408 -->\n<g id=\"edge3\" class=\"edge\">\n<title>5226921408+&#45;&gt;5226921408</title>\n<path fill=\"none\" stroke=\"black\" d=\"M598.29,-73.5C606.16,-73.5 615.3,-73.5 625.01,-73.5\"/>\n<polygon fill=\"black\" stroke=\"black\" points=\"624.74,-77 634.74,-73.5 624.74,-70 624.74,-77\"/>\n</g>\n<!-- 5226919392 -->\n<g id=\"node9\" class=\"node\">\n<title>5226919392</title>\n<polygon fill=\"none\" stroke=\"black\" points=\"316,-28.5 316,-64.5 508,-64.5 508,-28.5 316,-28.5\"/>\n<text text-anchor=\"middle\" x=\"327.5\" y=\"-42.8\" font-family=\"Times,serif\" font-size=\"14.00\">c</text>\n<polyline fill=\"none\" stroke=\"black\" points=\"339,-28.5 339,-64.5\"/>\n<text text-anchor=\"middle\" x=\"382.5\" y=\"-42.8\" font-family=\"Times,serif\" font-size=\"14.00\">data 10.0000</text>\n<polyline fill=\"none\" stroke=\"black\" points=\"426,-28.5 426,-64.5\"/>\n<text text-anchor=\"middle\" x=\"467\" y=\"-42.8\" font-family=\"Times,serif\" font-size=\"14.00\">grad 0.0000</text>\n</g>\n<!-- 5226919392&#45;&gt;5226921408+ -->\n<g id=\"edge5\" class=\"edge\">\n<title>5226919392&#45;&gt;5226921408+</title>\n<path fill=\"none\" stroke=\"black\" d=\"M507.95,-62.83C517.08,-64.4 525.9,-65.92 533.88,-67.29\"/>\n<polygon fill=\"black\" stroke=\"black\" points=\"533.11,-70.88 543.56,-69.12 534.29,-63.98 533.11,-70.88\"/>\n</g>\n<!-- 5226921456 -->\n<g id=\"node10\" class=\"node\">\n<title>5226921456</title>\n<polygon fill=\"none\" stroke=\"black\" points=\"634,-0.5 634,-36.5 822,-36.5 822,-0.5 634,-0.5\"/>\n<text text-anchor=\"middle\" x=\"644.5\" y=\"-14.8\" font-family=\"Times,serif\" font-size=\"14.00\">f</text>\n<polyline fill=\"none\" stroke=\"black\" points=\"655,-0.5 655,-36.5\"/>\n<text text-anchor=\"middle\" x=\"697.5\" y=\"-14.8\" font-family=\"Times,serif\" font-size=\"14.00\">data &#45;2.0000</text>\n<polyline fill=\"none\" stroke=\"black\" points=\"740,-0.5 740,-36.5\"/>\n<text text-anchor=\"middle\" x=\"781\" y=\"-14.8\" font-family=\"Times,serif\" font-size=\"14.00\">grad 0.0000</text>\n</g>\n<!-- 5226921456&#45;&gt;5226921648* -->\n<g id=\"edge9\" class=\"edge\">\n<title>5226921456&#45;&gt;5226921648*</title>\n<path fill=\"none\" stroke=\"black\" d=\"M821.85,-34.67C830.96,-36.26 839.78,-37.8 847.78,-39.19\"/>\n<polygon fill=\"black\" stroke=\"black\" points=\"847.02,-42.78 857.47,-41.05 848.22,-35.89 847.02,-42.78\"/>\n</g>\n</g>\n</svg>\n",
      "text/plain": [
       "<graphviz.graphs.Digraph at 0x10f64c0d0>"
      ]
     },
     "execution_count": 12,
     "metadata": {},
     "output_type": "execute_result"
    }
   ],
   "source": [
    "draw_dot(L)\n"
   ]
  },
  {
   "cell_type": "code",
   "execution_count": 13,
   "metadata": {},
   "outputs": [],
   "source": [
    "L.grad = 1.0  # derivate of itself\n",
    "f.grad = 4.0  # value of d, b.c. d(d * f)/df\n",
    "d.grad = -2.0  # value of f, b.c. d(d * f)/dd\n",
    "e.grad = -2.0\n",
    "c.grad = -2.0\n",
    "b.grad = -4.0\n",
    "a.grad = 6.0\n"
   ]
  },
  {
   "cell_type": "code",
   "execution_count": 14,
   "metadata": {},
   "outputs": [],
   "source": [
    "# inputs x1, x2\n",
    "x1 = Value(2.0, label='x1')\n",
    "x2 = Value(0.0, label='x2')\n",
    "\n",
    "w1 = Value(-3.0, label='w1')\n",
    "w2 = Value(1.0, label='w2')\n",
    "\n",
    "b = Value(6.88137335870195432, label='b')\n",
    "\n",
    "x1w1 = x1 * w1\n",
    "x1w1.label = 'x1*w1'\n",
    "\n",
    "x2w2 = x2 * w2\n",
    "x2w2.label = 'x2w2'\n",
    "\n",
    "x1w1x2w2 = x1w1 + x2w2\n",
    "x1w1x2w2.label = 'x1w1x2w2'\n",
    "\n",
    "n = x1w1x2w2 + b\n",
    "n.label = 'n'\n",
    "\n",
    "o = n.tanh()\n",
    "o.label = 'o'\n",
    "\n",
    "o.backward()\n"
   ]
  },
  {
   "cell_type": "code",
   "execution_count": 15,
   "metadata": {},
   "outputs": [
    {
     "data": {
      "image/svg+xml": "<?xml version=\"1.0\" encoding=\"UTF-8\" standalone=\"no\"?>\n<!DOCTYPE svg PUBLIC \"-//W3C//DTD SVG 1.1//EN\"\n \"http://www.w3.org/Graphics/SVG/1.1/DTD/svg11.dtd\">\n<!-- Generated by graphviz version 8.0.1 (20230327.1645)\n -->\n<!-- Pages: 1 -->\n<svg width=\"1546pt\" height=\"210pt\"\n viewBox=\"0.00 0.00 1546.00 210.00\" xmlns=\"http://www.w3.org/2000/svg\" xmlns:xlink=\"http://www.w3.org/1999/xlink\">\n<g id=\"graph0\" class=\"graph\" transform=\"scale(1 1) rotate(0) translate(4 206)\">\n<polygon fill=\"white\" stroke=\"none\" points=\"-4,4 -4,-206 1542,-206 1542,4 -4,4\"/>\n<!-- 5224889360 -->\n<g id=\"node1\" class=\"node\">\n<title>5224889360</title>\n<polygon fill=\"none\" stroke=\"black\" points=\"2,-165.5 2,-201.5 198,-201.5 198,-165.5 2,-165.5\"/>\n<text text-anchor=\"middle\" x=\"17\" y=\"-179.8\" font-family=\"Times,serif\" font-size=\"14.00\">x1</text>\n<polyline fill=\"none\" stroke=\"black\" points=\"32,-165.5 32,-201.5\"/>\n<text text-anchor=\"middle\" x=\"72\" y=\"-179.8\" font-family=\"Times,serif\" font-size=\"14.00\">data 2.0000</text>\n<polyline fill=\"none\" stroke=\"black\" points=\"112,-165.5 112,-201.5\"/>\n<text text-anchor=\"middle\" x=\"155\" y=\"-179.8\" font-family=\"Times,serif\" font-size=\"14.00\">grad &#45;1.5000</text>\n</g>\n<!-- 5226909168* -->\n<g id=\"node15\" class=\"node\">\n<title>5226909168*</title>\n<ellipse fill=\"none\" stroke=\"black\" cx=\"263\" cy=\"-128.5\" rx=\"27\" ry=\"18\"/>\n<text text-anchor=\"middle\" x=\"263\" y=\"-124.8\" font-family=\"Times,serif\" font-size=\"14.00\">*</text>\n</g>\n<!-- 5224889360&#45;&gt;5226909168* -->\n<g id=\"edge11\" class=\"edge\">\n<title>5224889360&#45;&gt;5226909168*</title>\n<path fill=\"none\" stroke=\"black\" d=\"M172.27,-165.52C181.67,-162.72 191.12,-159.7 200,-156.5 210.31,-152.79 221.29,-148.09 231.1,-143.61\"/>\n<polygon fill=\"black\" stroke=\"black\" points=\"232.25,-146.47 239.82,-139.07 229.28,-140.13 232.25,-146.47\"/>\n</g>\n<!-- 5224887872 -->\n<g id=\"node2\" class=\"node\">\n<title>5224887872</title>\n<polygon fill=\"none\" stroke=\"black\" points=\"701.5,-27.5 701.5,-63.5 886.5,-63.5 886.5,-27.5 701.5,-27.5\"/>\n<text text-anchor=\"middle\" x=\"713\" y=\"-41.8\" font-family=\"Times,serif\" font-size=\"14.00\">b</text>\n<polyline fill=\"none\" stroke=\"black\" points=\"724.5,-27.5 724.5,-63.5\"/>\n<text text-anchor=\"middle\" x=\"764.5\" y=\"-41.8\" font-family=\"Times,serif\" font-size=\"14.00\">data 6.8814</text>\n<polyline fill=\"none\" stroke=\"black\" points=\"804.5,-27.5 804.5,-63.5\"/>\n<text text-anchor=\"middle\" x=\"845.5\" y=\"-41.8\" font-family=\"Times,serif\" font-size=\"14.00\">grad 0.5000</text>\n</g>\n<!-- 5226910896+ -->\n<g id=\"node8\" class=\"node\">\n<title>5226910896+</title>\n<ellipse fill=\"none\" stroke=\"black\" cx=\"979\" cy=\"-72.5\" rx=\"27\" ry=\"18\"/>\n<text text-anchor=\"middle\" x=\"979\" y=\"-68.8\" font-family=\"Times,serif\" font-size=\"14.00\">+</text>\n</g>\n<!-- 5224887872&#45;&gt;5226910896+ -->\n<g id=\"edge12\" class=\"edge\">\n<title>5224887872&#45;&gt;5226910896+</title>\n<path fill=\"none\" stroke=\"black\" d=\"M886.5,-59C906.1,-61.89 925.7,-64.78 941.71,-67.15\"/>\n<polygon fill=\"black\" stroke=\"black\" points=\"940.76,-70.69 951.17,-68.69 941.79,-63.77 940.76,-70.69\"/>\n</g>\n<!-- 5226910272 -->\n<g id=\"node3\" class=\"node\">\n<title>5226910272</title>\n<polygon fill=\"none\" stroke=\"black\" points=\"672,-82.5 672,-118.5 916,-118.5 916,-82.5 672,-82.5\"/>\n<text text-anchor=\"middle\" x=\"710.5\" y=\"-96.8\" font-family=\"Times,serif\" font-size=\"14.00\">x1w1x2w2</text>\n<polyline fill=\"none\" stroke=\"black\" points=\"749,-82.5 749,-118.5\"/>\n<text text-anchor=\"middle\" x=\"791.5\" y=\"-96.8\" font-family=\"Times,serif\" font-size=\"14.00\">data &#45;6.0000</text>\n<polyline fill=\"none\" stroke=\"black\" points=\"834,-82.5 834,-118.5\"/>\n<text text-anchor=\"middle\" x=\"875\" y=\"-96.8\" font-family=\"Times,serif\" font-size=\"14.00\">grad 0.5000</text>\n</g>\n<!-- 5226910272&#45;&gt;5226910896+ -->\n<g id=\"edge8\" class=\"edge\">\n<title>5226910272&#45;&gt;5226910896+</title>\n<path fill=\"none\" stroke=\"black\" d=\"M912.45,-82.53C922.92,-80.93 932.9,-79.4 941.77,-78.04\"/>\n<polygon fill=\"black\" stroke=\"black\" points=\"942.01,-81.39 951.37,-76.42 940.96,-74.47 942.01,-81.39\"/>\n</g>\n<!-- 5226910272+ -->\n<g id=\"node4\" class=\"node\">\n<title>5226910272+</title>\n<ellipse fill=\"none\" stroke=\"black\" cx=\"609\" cy=\"-100.5\" rx=\"27\" ry=\"18\"/>\n<text text-anchor=\"middle\" x=\"609\" y=\"-96.8\" font-family=\"Times,serif\" font-size=\"14.00\">+</text>\n</g>\n<!-- 5226910272+&#45;&gt;5226910272 -->\n<g id=\"edge1\" class=\"edge\">\n<title>5226910272+&#45;&gt;5226910272</title>\n<path fill=\"none\" stroke=\"black\" d=\"M636.22,-100.5C643.62,-100.5 652.2,-100.5 661.46,-100.5\"/>\n<polygon fill=\"black\" stroke=\"black\" points=\"661.19,-104 671.19,-100.5 661.19,-97 661.19,-104\"/>\n</g>\n<!-- 5224880192 -->\n<g id=\"node5\" class=\"node\">\n<title>5224880192</title>\n<polygon fill=\"none\" stroke=\"black\" points=\"2.5,-55.5 2.5,-91.5 197.5,-91.5 197.5,-55.5 2.5,-55.5\"/>\n<text text-anchor=\"middle\" x=\"19\" y=\"-69.8\" font-family=\"Times,serif\" font-size=\"14.00\">w2</text>\n<polyline fill=\"none\" stroke=\"black\" points=\"35.5,-55.5 35.5,-91.5\"/>\n<text text-anchor=\"middle\" x=\"75.5\" y=\"-69.8\" font-family=\"Times,serif\" font-size=\"14.00\">data 1.0000</text>\n<polyline fill=\"none\" stroke=\"black\" points=\"115.5,-55.5 115.5,-91.5\"/>\n<text text-anchor=\"middle\" x=\"156.5\" y=\"-69.8\" font-family=\"Times,serif\" font-size=\"14.00\">grad 0.0000</text>\n</g>\n<!-- 5226909456* -->\n<g id=\"node13\" class=\"node\">\n<title>5226909456*</title>\n<ellipse fill=\"none\" stroke=\"black\" cx=\"263\" cy=\"-73.5\" rx=\"27\" ry=\"18\"/>\n<text text-anchor=\"middle\" x=\"263\" y=\"-69.8\" font-family=\"Times,serif\" font-size=\"14.00\">*</text>\n</g>\n<!-- 5224880192&#45;&gt;5226909456* -->\n<g id=\"edge13\" class=\"edge\">\n<title>5224880192&#45;&gt;5226909456*</title>\n<path fill=\"none\" stroke=\"black\" d=\"M197.44,-73.5C207.11,-73.5 216.46,-73.5 224.9,-73.5\"/>\n<polygon fill=\"black\" stroke=\"black\" points=\"224.79,-77 234.79,-73.5 224.79,-70 224.79,-77\"/>\n</g>\n<!-- 5224880240 -->\n<g id=\"node6\" class=\"node\">\n<title>5224880240</title>\n<polygon fill=\"none\" stroke=\"black\" points=\"4,-0.5 4,-36.5 196,-36.5 196,-0.5 4,-0.5\"/>\n<text text-anchor=\"middle\" x=\"19\" y=\"-14.8\" font-family=\"Times,serif\" font-size=\"14.00\">x2</text>\n<polyline fill=\"none\" stroke=\"black\" points=\"34,-0.5 34,-36.5\"/>\n<text text-anchor=\"middle\" x=\"74\" y=\"-14.8\" font-family=\"Times,serif\" font-size=\"14.00\">data 0.0000</text>\n<polyline fill=\"none\" stroke=\"black\" points=\"114,-0.5 114,-36.5\"/>\n<text text-anchor=\"middle\" x=\"155\" y=\"-14.8\" font-family=\"Times,serif\" font-size=\"14.00\">grad 0.5000</text>\n</g>\n<!-- 5224880240&#45;&gt;5226909456* -->\n<g id=\"edge6\" class=\"edge\">\n<title>5224880240&#45;&gt;5226909456*</title>\n<path fill=\"none\" stroke=\"black\" d=\"M169.02,-36.42C179.47,-39.56 190.08,-42.95 200,-46.5 210.07,-50.1 220.82,-54.55 230.49,-58.8\"/>\n<polygon fill=\"black\" stroke=\"black\" points=\"228.92,-62.38 239.48,-63.27 231.79,-55.99 228.92,-62.38\"/>\n</g>\n<!-- 5226910896 -->\n<g id=\"node7\" class=\"node\">\n<title>5226910896</title>\n<polygon fill=\"none\" stroke=\"black\" points=\"1042,-54.5 1042,-90.5 1227,-90.5 1227,-54.5 1042,-54.5\"/>\n<text text-anchor=\"middle\" x=\"1053.5\" y=\"-68.8\" font-family=\"Times,serif\" font-size=\"14.00\">n</text>\n<polyline fill=\"none\" stroke=\"black\" points=\"1065,-54.5 1065,-90.5\"/>\n<text text-anchor=\"middle\" x=\"1105\" y=\"-68.8\" font-family=\"Times,serif\" font-size=\"14.00\">data 0.8814</text>\n<polyline fill=\"none\" stroke=\"black\" points=\"1145,-54.5 1145,-90.5\"/>\n<text text-anchor=\"middle\" x=\"1186\" y=\"-68.8\" font-family=\"Times,serif\" font-size=\"14.00\">grad 0.5000</text>\n</g>\n<!-- 5226911424tanh -->\n<g id=\"node10\" class=\"node\">\n<title>5226911424tanh</title>\n<ellipse fill=\"none\" stroke=\"black\" cx=\"1290\" cy=\"-72.5\" rx=\"27\" ry=\"18\"/>\n<text text-anchor=\"middle\" x=\"1290\" y=\"-68.8\" font-family=\"Times,serif\" font-size=\"14.00\">tanh</text>\n</g>\n<!-- 5226910896&#45;&gt;5226911424tanh -->\n<g id=\"edge7\" class=\"edge\">\n<title>5226910896&#45;&gt;5226911424tanh</title>\n<path fill=\"none\" stroke=\"black\" d=\"M1226.57,-72.5C1235.41,-72.5 1244,-72.5 1251.83,-72.5\"/>\n<polygon fill=\"black\" stroke=\"black\" points=\"1251.7,-76 1261.7,-72.5 1251.7,-69 1251.7,-76\"/>\n</g>\n<!-- 5226910896+&#45;&gt;5226910896 -->\n<g id=\"edge2\" class=\"edge\">\n<title>5226910896+&#45;&gt;5226910896</title>\n<path fill=\"none\" stroke=\"black\" d=\"M1006.39,-72.5C1013.78,-72.5 1022.29,-72.5 1031.33,-72.5\"/>\n<polygon fill=\"black\" stroke=\"black\" points=\"1031.15,-76 1041.15,-72.5 1031.15,-69 1031.15,-76\"/>\n</g>\n<!-- 5226911424 -->\n<g id=\"node9\" class=\"node\">\n<title>5226911424</title>\n<polygon fill=\"none\" stroke=\"black\" points=\"1353,-54.5 1353,-90.5 1538,-90.5 1538,-54.5 1353,-54.5\"/>\n<text text-anchor=\"middle\" x=\"1364.5\" y=\"-68.8\" font-family=\"Times,serif\" font-size=\"14.00\">o</text>\n<polyline fill=\"none\" stroke=\"black\" points=\"1376,-54.5 1376,-90.5\"/>\n<text text-anchor=\"middle\" x=\"1416\" y=\"-68.8\" font-family=\"Times,serif\" font-size=\"14.00\">data 0.7071</text>\n<polyline fill=\"none\" stroke=\"black\" points=\"1456,-54.5 1456,-90.5\"/>\n<text text-anchor=\"middle\" x=\"1497\" y=\"-68.8\" font-family=\"Times,serif\" font-size=\"14.00\">grad 1.0000</text>\n</g>\n<!-- 5226911424tanh&#45;&gt;5226911424 -->\n<g id=\"edge3\" class=\"edge\">\n<title>5226911424tanh&#45;&gt;5226911424</title>\n<path fill=\"none\" stroke=\"black\" d=\"M1317.39,-72.5C1324.78,-72.5 1333.29,-72.5 1342.33,-72.5\"/>\n<polygon fill=\"black\" stroke=\"black\" points=\"1342.15,-76 1352.15,-72.5 1342.15,-69 1342.15,-76\"/>\n</g>\n<!-- 5224880384 -->\n<g id=\"node11\" class=\"node\">\n<title>5224880384</title>\n<polygon fill=\"none\" stroke=\"black\" points=\"0,-110.5 0,-146.5 200,-146.5 200,-110.5 0,-110.5\"/>\n<text text-anchor=\"middle\" x=\"16.5\" y=\"-124.8\" font-family=\"Times,serif\" font-size=\"14.00\">w1</text>\n<polyline fill=\"none\" stroke=\"black\" points=\"33,-110.5 33,-146.5\"/>\n<text text-anchor=\"middle\" x=\"75.5\" y=\"-124.8\" font-family=\"Times,serif\" font-size=\"14.00\">data &#45;3.0000</text>\n<polyline fill=\"none\" stroke=\"black\" points=\"118,-110.5 118,-146.5\"/>\n<text text-anchor=\"middle\" x=\"159\" y=\"-124.8\" font-family=\"Times,serif\" font-size=\"14.00\">grad 1.0000</text>\n</g>\n<!-- 5224880384&#45;&gt;5226909168* -->\n<g id=\"edge9\" class=\"edge\">\n<title>5224880384&#45;&gt;5226909168*</title>\n<path fill=\"none\" stroke=\"black\" d=\"M199.75,-128.5C208.59,-128.5 217.11,-128.5 224.87,-128.5\"/>\n<polygon fill=\"black\" stroke=\"black\" points=\"224.64,-132 234.64,-128.5 224.64,-125 224.64,-132\"/>\n</g>\n<!-- 5226909456 -->\n<g id=\"node12\" class=\"node\">\n<title>5226909456</title>\n<polygon fill=\"none\" stroke=\"black\" points=\"331.5,-55.5 331.5,-91.5 540.5,-91.5 540.5,-55.5 331.5,-55.5\"/>\n<text text-anchor=\"middle\" x=\"355\" y=\"-69.8\" font-family=\"Times,serif\" font-size=\"14.00\">x2w2</text>\n<polyline fill=\"none\" stroke=\"black\" points=\"378.5,-55.5 378.5,-91.5\"/>\n<text text-anchor=\"middle\" x=\"418.5\" y=\"-69.8\" font-family=\"Times,serif\" font-size=\"14.00\">data 0.0000</text>\n<polyline fill=\"none\" stroke=\"black\" points=\"458.5,-55.5 458.5,-91.5\"/>\n<text text-anchor=\"middle\" x=\"499.5\" y=\"-69.8\" font-family=\"Times,serif\" font-size=\"14.00\">grad 0.5000</text>\n</g>\n<!-- 5226909456&#45;&gt;5226910272+ -->\n<g id=\"edge10\" class=\"edge\">\n<title>5226909456&#45;&gt;5226910272+</title>\n<path fill=\"none\" stroke=\"black\" d=\"M540.42,-89.83C551.42,-91.57 562,-93.24 571.4,-94.72\"/>\n<polygon fill=\"black\" stroke=\"black\" points=\"570.8,-98.33 581.23,-96.43 571.89,-91.41 570.8,-98.33\"/>\n</g>\n<!-- 5226909456*&#45;&gt;5226909456 -->\n<g id=\"edge4\" class=\"edge\">\n<title>5226909456*&#45;&gt;5226909456</title>\n<path fill=\"none\" stroke=\"black\" d=\"M290.34,-73.5C299.15,-73.5 309.59,-73.5 320.78,-73.5\"/>\n<polygon fill=\"black\" stroke=\"black\" points=\"320.7,-77 330.7,-73.5 320.7,-70 320.7,-77\"/>\n</g>\n<!-- 5226909168 -->\n<g id=\"node14\" class=\"node\">\n<title>5226909168</title>\n<polygon fill=\"none\" stroke=\"black\" points=\"326,-110.5 326,-146.5 546,-146.5 546,-110.5 326,-110.5\"/>\n<text text-anchor=\"middle\" x=\"352.5\" y=\"-124.8\" font-family=\"Times,serif\" font-size=\"14.00\">x1*w1</text>\n<polyline fill=\"none\" stroke=\"black\" points=\"379,-110.5 379,-146.5\"/>\n<text text-anchor=\"middle\" x=\"421.5\" y=\"-124.8\" font-family=\"Times,serif\" font-size=\"14.00\">data &#45;6.0000</text>\n<polyline fill=\"none\" stroke=\"black\" points=\"464,-110.5 464,-146.5\"/>\n<text text-anchor=\"middle\" x=\"505\" y=\"-124.8\" font-family=\"Times,serif\" font-size=\"14.00\">grad 0.5000</text>\n</g>\n<!-- 5226909168&#45;&gt;5226910272+ -->\n<g id=\"edge14\" class=\"edge\">\n<title>5226909168&#45;&gt;5226910272+</title>\n<path fill=\"none\" stroke=\"black\" d=\"M545.78,-110.69C555,-109.18 563.84,-107.73 571.8,-106.43\"/>\n<polygon fill=\"black\" stroke=\"black\" points=\"572.13,-109.76 581.43,-104.69 571,-102.85 572.13,-109.76\"/>\n</g>\n<!-- 5226909168*&#45;&gt;5226909168 -->\n<g id=\"edge5\" class=\"edge\">\n<title>5226909168*&#45;&gt;5226909168</title>\n<path fill=\"none\" stroke=\"black\" d=\"M290.34,-128.5C297.68,-128.5 306.16,-128.5 315.26,-128.5\"/>\n<polygon fill=\"black\" stroke=\"black\" points=\"315.2,-132 325.2,-128.5 315.2,-125 315.2,-132\"/>\n</g>\n</g>\n</svg>\n",
      "text/plain": [
       "<graphviz.graphs.Digraph at 0x1376d73a0>"
      ]
     },
     "execution_count": 15,
     "metadata": {},
     "output_type": "execute_result"
    }
   ],
   "source": [
    "draw_dot(o)\n"
   ]
  },
  {
   "cell_type": "code",
   "execution_count": 16,
   "metadata": {},
   "outputs": [
    {
     "data": {
      "image/svg+xml": "<?xml version=\"1.0\" encoding=\"UTF-8\" standalone=\"no\"?>\n<!DOCTYPE svg PUBLIC \"-//W3C//DTD SVG 1.1//EN\"\n \"http://www.w3.org/Graphics/SVG/1.1/DTD/svg11.dtd\">\n<!-- Generated by graphviz version 8.0.1 (20230327.1645)\n -->\n<!-- Pages: 1 -->\n<svg width=\"2915pt\" height=\"210pt\"\n viewBox=\"0.00 0.00 2915.00 210.00\" xmlns=\"http://www.w3.org/2000/svg\" xmlns:xlink=\"http://www.w3.org/1999/xlink\">\n<g id=\"graph0\" class=\"graph\" transform=\"scale(1 1) rotate(0) translate(4 206)\">\n<polygon fill=\"white\" stroke=\"none\" points=\"-4,4 -4,-206 2911,-206 2911,4 -4,4\"/>\n<!-- 5226906624 -->\n<g id=\"node1\" class=\"node\">\n<title>5226906624</title>\n<polygon fill=\"none\" stroke=\"black\" points=\"2722,-80.5 2722,-116.5 2907,-116.5 2907,-80.5 2722,-80.5\"/>\n<text text-anchor=\"middle\" x=\"2733.5\" y=\"-94.8\" font-family=\"Times,serif\" font-size=\"14.00\">o</text>\n<polyline fill=\"none\" stroke=\"black\" points=\"2745,-80.5 2745,-116.5\"/>\n<text text-anchor=\"middle\" x=\"2785\" y=\"-94.8\" font-family=\"Times,serif\" font-size=\"14.00\">data 0.7071</text>\n<polyline fill=\"none\" stroke=\"black\" points=\"2825,-80.5 2825,-116.5\"/>\n<text text-anchor=\"middle\" x=\"2866\" y=\"-94.8\" font-family=\"Times,serif\" font-size=\"14.00\">grad 1.0000</text>\n</g>\n<!-- 5226906624* -->\n<g id=\"node2\" class=\"node\">\n<title>5226906624*</title>\n<ellipse fill=\"none\" stroke=\"black\" cx=\"2659\" cy=\"-98.5\" rx=\"27\" ry=\"18\"/>\n<text text-anchor=\"middle\" x=\"2659\" y=\"-94.8\" font-family=\"Times,serif\" font-size=\"14.00\">*</text>\n</g>\n<!-- 5226906624*&#45;&gt;5226906624 -->\n<g id=\"edge1\" class=\"edge\">\n<title>5226906624*&#45;&gt;5226906624</title>\n<path fill=\"none\" stroke=\"black\" d=\"M2686.39,-98.5C2693.78,-98.5 2702.29,-98.5 2711.33,-98.5\"/>\n<polygon fill=\"black\" stroke=\"black\" points=\"2711.15,-102 2721.15,-98.5 2711.15,-95 2711.15,-102\"/>\n</g>\n<!-- 5226445840 -->\n<g id=\"node3\" class=\"node\">\n<title>5226445840</title>\n<polygon fill=\"none\" stroke=\"black\" points=\"701.5,-137.5 701.5,-173.5 886.5,-173.5 886.5,-137.5 701.5,-137.5\"/>\n<text text-anchor=\"middle\" x=\"713\" y=\"-151.8\" font-family=\"Times,serif\" font-size=\"14.00\">b</text>\n<polyline fill=\"none\" stroke=\"black\" points=\"724.5,-137.5 724.5,-173.5\"/>\n<text text-anchor=\"middle\" x=\"764.5\" y=\"-151.8\" font-family=\"Times,serif\" font-size=\"14.00\">data 6.8814</text>\n<polyline fill=\"none\" stroke=\"black\" points=\"804.5,-137.5 804.5,-173.5\"/>\n<text text-anchor=\"middle\" x=\"845.5\" y=\"-151.8\" font-family=\"Times,serif\" font-size=\"14.00\">grad 0.5000</text>\n</g>\n<!-- 5226906672+ -->\n<g id=\"node6\" class=\"node\">\n<title>5226906672+</title>\n<ellipse fill=\"none\" stroke=\"black\" cx=\"979\" cy=\"-127.5\" rx=\"27\" ry=\"18\"/>\n<text text-anchor=\"middle\" x=\"979\" y=\"-123.8\" font-family=\"Times,serif\" font-size=\"14.00\">+</text>\n</g>\n<!-- 5226445840&#45;&gt;5226906672+ -->\n<g id=\"edge15\" class=\"edge\">\n<title>5226445840&#45;&gt;5226906672+</title>\n<path fill=\"none\" stroke=\"black\" d=\"M886.5,-141.5C906.1,-138.5 925.7,-135.5 941.71,-133.05\"/>\n<polygon fill=\"black\" stroke=\"black\" points=\"941.81,-136.42 951.17,-131.45 940.75,-129.51 941.81,-136.42\"/>\n</g>\n<!-- 4655971344 -->\n<g id=\"node4\" class=\"node\">\n<title>4655971344</title>\n<polygon fill=\"none\" stroke=\"black\" points=\"0,-165.5 0,-201.5 200,-201.5 200,-165.5 0,-165.5\"/>\n<text text-anchor=\"middle\" x=\"16.5\" y=\"-179.8\" font-family=\"Times,serif\" font-size=\"14.00\">w1</text>\n<polyline fill=\"none\" stroke=\"black\" points=\"33,-165.5 33,-201.5\"/>\n<text text-anchor=\"middle\" x=\"75.5\" y=\"-179.8\" font-family=\"Times,serif\" font-size=\"14.00\">data &#45;3.0000</text>\n<polyline fill=\"none\" stroke=\"black\" points=\"118,-165.5 118,-201.5\"/>\n<text text-anchor=\"middle\" x=\"159\" y=\"-179.8\" font-family=\"Times,serif\" font-size=\"14.00\">grad 1.0000</text>\n</g>\n<!-- 5226433648* -->\n<g id=\"node9\" class=\"node\">\n<title>5226433648*</title>\n<ellipse fill=\"none\" stroke=\"black\" cx=\"263\" cy=\"-128.5\" rx=\"27\" ry=\"18\"/>\n<text text-anchor=\"middle\" x=\"263\" y=\"-124.8\" font-family=\"Times,serif\" font-size=\"14.00\">*</text>\n</g>\n<!-- 4655971344&#45;&gt;5226433648* -->\n<g id=\"edge12\" class=\"edge\">\n<title>4655971344&#45;&gt;5226433648*</title>\n<path fill=\"none\" stroke=\"black\" d=\"M172.27,-165.52C181.67,-162.72 191.12,-159.7 200,-156.5 210.31,-152.79 221.29,-148.09 231.1,-143.61\"/>\n<polygon fill=\"black\" stroke=\"black\" points=\"232.25,-146.47 239.82,-139.07 229.28,-140.13 232.25,-146.47\"/>\n</g>\n<!-- 5226906672 -->\n<g id=\"node5\" class=\"node\">\n<title>5226906672</title>\n<polygon fill=\"none\" stroke=\"black\" points=\"1042,-109.5 1042,-145.5 1227,-145.5 1227,-109.5 1042,-109.5\"/>\n<text text-anchor=\"middle\" x=\"1053.5\" y=\"-123.8\" font-family=\"Times,serif\" font-size=\"14.00\">n</text>\n<polyline fill=\"none\" stroke=\"black\" points=\"1065,-109.5 1065,-145.5\"/>\n<text text-anchor=\"middle\" x=\"1105\" y=\"-123.8\" font-family=\"Times,serif\" font-size=\"14.00\">data 0.8814</text>\n<polyline fill=\"none\" stroke=\"black\" points=\"1145,-109.5 1145,-145.5\"/>\n<text text-anchor=\"middle\" x=\"1186\" y=\"-123.8\" font-family=\"Times,serif\" font-size=\"14.00\">grad 0.5000</text>\n</g>\n<!-- 5226911616* -->\n<g id=\"node27\" class=\"node\">\n<title>5226911616*</title>\n<ellipse fill=\"none\" stroke=\"black\" cx=\"1290\" cy=\"-99.5\" rx=\"27\" ry=\"18\"/>\n<text text-anchor=\"middle\" x=\"1290\" y=\"-95.8\" font-family=\"Times,serif\" font-size=\"14.00\">*</text>\n</g>\n<!-- 5226906672&#45;&gt;5226911616* -->\n<g id=\"edge23\" class=\"edge\">\n<title>5226906672&#45;&gt;5226911616*</title>\n<path fill=\"none\" stroke=\"black\" d=\"M1226.57,-110.89C1235.78,-109.21 1244.71,-107.58 1252.8,-106.1\"/>\n<polygon fill=\"black\" stroke=\"black\" points=\"1253.4,-109.37 1262.61,-104.13 1252.14,-102.48 1253.4,-109.37\"/>\n</g>\n<!-- 5226906672+&#45;&gt;5226906672 -->\n<g id=\"edge2\" class=\"edge\">\n<title>5226906672+&#45;&gt;5226906672</title>\n<path fill=\"none\" stroke=\"black\" d=\"M1006.39,-127.5C1013.78,-127.5 1022.29,-127.5 1031.33,-127.5\"/>\n<polygon fill=\"black\" stroke=\"black\" points=\"1031.15,-131 1041.15,-127.5 1031.15,-124 1031.15,-131\"/>\n</g>\n<!-- 4655969328 -->\n<g id=\"node7\" class=\"node\">\n<title>4655969328</title>\n<polygon fill=\"none\" stroke=\"black\" points=\"4,-55.5 4,-91.5 196,-91.5 196,-55.5 4,-55.5\"/>\n<text text-anchor=\"middle\" x=\"19\" y=\"-69.8\" font-family=\"Times,serif\" font-size=\"14.00\">x2</text>\n<polyline fill=\"none\" stroke=\"black\" points=\"34,-55.5 34,-91.5\"/>\n<text text-anchor=\"middle\" x=\"74\" y=\"-69.8\" font-family=\"Times,serif\" font-size=\"14.00\">data 0.0000</text>\n<polyline fill=\"none\" stroke=\"black\" points=\"114,-55.5 114,-91.5\"/>\n<text text-anchor=\"middle\" x=\"155\" y=\"-69.8\" font-family=\"Times,serif\" font-size=\"14.00\">grad 0.5000</text>\n</g>\n<!-- 5226442960* -->\n<g id=\"node17\" class=\"node\">\n<title>5226442960*</title>\n<ellipse fill=\"none\" stroke=\"black\" cx=\"263\" cy=\"-73.5\" rx=\"27\" ry=\"18\"/>\n<text text-anchor=\"middle\" x=\"263\" y=\"-69.8\" font-family=\"Times,serif\" font-size=\"14.00\">*</text>\n</g>\n<!-- 4655969328&#45;&gt;5226442960* -->\n<g id=\"edge11\" class=\"edge\">\n<title>4655969328&#45;&gt;5226442960*</title>\n<path fill=\"none\" stroke=\"black\" d=\"M195.59,-73.5C205.88,-73.5 215.87,-73.5 224.83,-73.5\"/>\n<polygon fill=\"black\" stroke=\"black\" points=\"224.58,-77 234.58,-73.5 224.58,-70 224.58,-77\"/>\n</g>\n<!-- 5226433648 -->\n<g id=\"node8\" class=\"node\">\n<title>5226433648</title>\n<polygon fill=\"none\" stroke=\"black\" points=\"326,-110.5 326,-146.5 546,-146.5 546,-110.5 326,-110.5\"/>\n<text text-anchor=\"middle\" x=\"352.5\" y=\"-124.8\" font-family=\"Times,serif\" font-size=\"14.00\">x1*w1</text>\n<polyline fill=\"none\" stroke=\"black\" points=\"379,-110.5 379,-146.5\"/>\n<text text-anchor=\"middle\" x=\"421.5\" y=\"-124.8\" font-family=\"Times,serif\" font-size=\"14.00\">data &#45;6.0000</text>\n<polyline fill=\"none\" stroke=\"black\" points=\"464,-110.5 464,-146.5\"/>\n<text text-anchor=\"middle\" x=\"505\" y=\"-124.8\" font-family=\"Times,serif\" font-size=\"14.00\">grad 0.5000</text>\n</g>\n<!-- 5226911088+ -->\n<g id=\"node25\" class=\"node\">\n<title>5226911088+</title>\n<ellipse fill=\"none\" stroke=\"black\" cx=\"609\" cy=\"-100.5\" rx=\"27\" ry=\"18\"/>\n<text text-anchor=\"middle\" x=\"609\" y=\"-96.8\" font-family=\"Times,serif\" font-size=\"14.00\">+</text>\n</g>\n<!-- 5226433648&#45;&gt;5226911088+ -->\n<g id=\"edge26\" class=\"edge\">\n<title>5226433648&#45;&gt;5226911088+</title>\n<path fill=\"none\" stroke=\"black\" d=\"M545.78,-110.69C555,-109.18 563.84,-107.73 571.8,-106.43\"/>\n<polygon fill=\"black\" stroke=\"black\" points=\"572.13,-109.76 581.43,-104.69 571,-102.85 572.13,-109.76\"/>\n</g>\n<!-- 5226433648*&#45;&gt;5226433648 -->\n<g id=\"edge3\" class=\"edge\">\n<title>5226433648*&#45;&gt;5226433648</title>\n<path fill=\"none\" stroke=\"black\" d=\"M290.34,-128.5C297.68,-128.5 306.16,-128.5 315.26,-128.5\"/>\n<polygon fill=\"black\" stroke=\"black\" points=\"315.2,-132 325.2,-128.5 315.2,-125 315.2,-132\"/>\n</g>\n<!-- 5226909312 -->\n<g id=\"node10\" class=\"node\">\n<title>5226909312</title>\n<polygon fill=\"none\" stroke=\"black\" points=\"1043.5,-54.5 1043.5,-90.5 1225.5,-90.5 1225.5,-54.5 1043.5,-54.5\"/>\n<text text-anchor=\"middle\" x=\"1053.5\" y=\"-68.8\" font-family=\"Times,serif\" font-size=\"14.00\"> </text>\n<polyline fill=\"none\" stroke=\"black\" points=\"1063.5,-54.5 1063.5,-90.5\"/>\n<text text-anchor=\"middle\" x=\"1103.5\" y=\"-68.8\" font-family=\"Times,serif\" font-size=\"14.00\">data 2.0000</text>\n<polyline fill=\"none\" stroke=\"black\" points=\"1143.5,-54.5 1143.5,-90.5\"/>\n<text text-anchor=\"middle\" x=\"1184.5\" y=\"-68.8\" font-family=\"Times,serif\" font-size=\"14.00\">grad 0.2203</text>\n</g>\n<!-- 5226909312&#45;&gt;5226911616* -->\n<g id=\"edge21\" class=\"edge\">\n<title>5226909312&#45;&gt;5226911616*</title>\n<path fill=\"none\" stroke=\"black\" d=\"M1225.24,-88.28C1235,-90 1244.47,-91.67 1253,-93.17\"/>\n<polygon fill=\"black\" stroke=\"black\" points=\"1252.16,-96.75 1262.61,-95.03 1253.37,-89.85 1252.16,-96.75\"/>\n</g>\n<!-- 5226910320 -->\n<g id=\"node11\" class=\"node\">\n<title>5226910320</title>\n<polygon fill=\"none\" stroke=\"black\" points=\"1661,-136.5 1661,-172.5 1848,-172.5 1848,-136.5 1661,-136.5\"/>\n<text text-anchor=\"middle\" x=\"1671\" y=\"-150.8\" font-family=\"Times,serif\" font-size=\"14.00\"> </text>\n<polyline fill=\"none\" stroke=\"black\" points=\"1681,-136.5 1681,-172.5\"/>\n<text text-anchor=\"middle\" x=\"1723.5\" y=\"-150.8\" font-family=\"Times,serif\" font-size=\"14.00\">data &#45;1.0000</text>\n<polyline fill=\"none\" stroke=\"black\" points=\"1766,-136.5 1766,-172.5\"/>\n<text text-anchor=\"middle\" x=\"1807\" y=\"-150.8\" font-family=\"Times,serif\" font-size=\"14.00\">grad 0.1464</text>\n</g>\n<!-- 5226909936+ -->\n<g id=\"node19\" class=\"node\">\n<title>5226909936+</title>\n<ellipse fill=\"none\" stroke=\"black\" cx=\"1911\" cy=\"-126.5\" rx=\"27\" ry=\"18\"/>\n<text text-anchor=\"middle\" x=\"1911\" y=\"-122.8\" font-family=\"Times,serif\" font-size=\"14.00\">+</text>\n</g>\n<!-- 5226910320&#45;&gt;5226909936+ -->\n<g id=\"edge19\" class=\"edge\">\n<title>5226910320&#45;&gt;5226909936+</title>\n<path fill=\"none\" stroke=\"black\" d=\"M1847.6,-137.81C1856.83,-136.14 1865.76,-134.52 1873.84,-133.05\"/>\n<polygon fill=\"black\" stroke=\"black\" points=\"1874.43,-136.32 1883.65,-131.09 1873.18,-129.43 1874.43,-136.32\"/>\n</g>\n<!-- 5226906288 -->\n<g id=\"node12\" class=\"node\">\n<title>5226906288</title>\n<polygon fill=\"none\" stroke=\"black\" points=\"2414,-57.5 2414,-93.5 2596,-93.5 2596,-57.5 2414,-57.5\"/>\n<text text-anchor=\"middle\" x=\"2424\" y=\"-71.8\" font-family=\"Times,serif\" font-size=\"14.00\"> </text>\n<polyline fill=\"none\" stroke=\"black\" points=\"2434,-57.5 2434,-93.5\"/>\n<text text-anchor=\"middle\" x=\"2474\" y=\"-71.8\" font-family=\"Times,serif\" font-size=\"14.00\">data 0.1464</text>\n<polyline fill=\"none\" stroke=\"black\" points=\"2514,-57.5 2514,-93.5\"/>\n<text text-anchor=\"middle\" x=\"2555\" y=\"-71.8\" font-family=\"Times,serif\" font-size=\"14.00\">grad 4.8284</text>\n</g>\n<!-- 5226906288&#45;&gt;5226906624* -->\n<g id=\"edge28\" class=\"edge\">\n<title>5226906288&#45;&gt;5226906624*</title>\n<path fill=\"none\" stroke=\"black\" d=\"M2595.74,-89.08C2604.82,-90.45 2613.64,-91.79 2621.64,-93\"/>\n<polygon fill=\"black\" stroke=\"black\" points=\"2620.94,-96.58 2631.35,-94.62 2621.99,-89.66 2620.94,-96.58\"/>\n</g>\n<!-- 5226906288**&#45;1 -->\n<g id=\"node13\" class=\"node\">\n<title>5226906288**&#45;1</title>\n<ellipse fill=\"none\" stroke=\"black\" cx=\"2287\" cy=\"-71.5\" rx=\"27\" ry=\"18\"/>\n<text text-anchor=\"middle\" x=\"2287\" y=\"-67.8\" font-family=\"Times,serif\" font-size=\"14.00\">**&#45;1</text>\n</g>\n<!-- 5226906288**&#45;1&#45;&gt;5226906288 -->\n<g id=\"edge4\" class=\"edge\">\n<title>5226906288**&#45;1&#45;&gt;5226906288</title>\n<path fill=\"none\" stroke=\"black\" d=\"M2314.49,-71.99C2336.95,-72.41 2370.67,-73.03 2403.46,-73.64\"/>\n<polygon fill=\"black\" stroke=\"black\" points=\"2403,-77.15 2413.06,-73.83 2403.12,-70.15 2403,-77.15\"/>\n</g>\n<!-- 5226912960 -->\n<g id=\"node14\" class=\"node\">\n<title>5226912960</title>\n<polygon fill=\"none\" stroke=\"black\" points=\"1663.5,-81.5 1663.5,-117.5 1845.5,-117.5 1845.5,-81.5 1663.5,-81.5\"/>\n<text text-anchor=\"middle\" x=\"1673.5\" y=\"-95.8\" font-family=\"Times,serif\" font-size=\"14.00\"> </text>\n<polyline fill=\"none\" stroke=\"black\" points=\"1683.5,-81.5 1683.5,-117.5\"/>\n<text text-anchor=\"middle\" x=\"1723.5\" y=\"-95.8\" font-family=\"Times,serif\" font-size=\"14.00\">data 5.8284</text>\n<polyline fill=\"none\" stroke=\"black\" points=\"1763.5,-81.5 1763.5,-117.5\"/>\n<text text-anchor=\"middle\" x=\"1804.5\" y=\"-95.8\" font-family=\"Times,serif\" font-size=\"14.00\">grad 0.0429</text>\n</g>\n<!-- 5226912960&#45;&gt;5226909936+ -->\n<g id=\"edge13\" class=\"edge\">\n<title>5226912960&#45;&gt;5226909936+</title>\n<path fill=\"none\" stroke=\"black\" d=\"M1845.37,-115.21C1855.34,-116.95 1865.03,-118.64 1873.73,-120.16\"/>\n<polygon fill=\"black\" stroke=\"black\" points=\"1873.1,-123.78 1883.55,-122.05 1874.3,-116.88 1873.1,-123.78\"/>\n</g>\n<!-- 5226910032+ -->\n<g id=\"node23\" class=\"node\">\n<title>5226910032+</title>\n<ellipse fill=\"none\" stroke=\"black\" cx=\"1911\" cy=\"-71.5\" rx=\"27\" ry=\"18\"/>\n<text text-anchor=\"middle\" x=\"1911\" y=\"-67.8\" font-family=\"Times,serif\" font-size=\"14.00\">+</text>\n</g>\n<!-- 5226912960&#45;&gt;5226910032+ -->\n<g id=\"edge17\" class=\"edge\">\n<title>5226912960&#45;&gt;5226910032+</title>\n<path fill=\"none\" stroke=\"black\" d=\"M1845.37,-83.21C1855.34,-81.41 1865.03,-79.65 1873.73,-78.07\"/>\n<polygon fill=\"black\" stroke=\"black\" points=\"1874.34,-81.34 1883.55,-76.11 1873.09,-74.45 1874.34,-81.34\"/>\n</g>\n<!-- 5226912960exp -->\n<g id=\"node15\" class=\"node\">\n<title>5226912960exp</title>\n<ellipse fill=\"none\" stroke=\"black\" cx=\"1598\" cy=\"-99.5\" rx=\"27\" ry=\"18\"/>\n<text text-anchor=\"middle\" x=\"1598\" y=\"-95.8\" font-family=\"Times,serif\" font-size=\"14.00\">exp</text>\n</g>\n<!-- 5226912960exp&#45;&gt;5226912960 -->\n<g id=\"edge5\" class=\"edge\">\n<title>5226912960exp&#45;&gt;5226912960</title>\n<path fill=\"none\" stroke=\"black\" d=\"M1625.21,-99.5C1633.24,-99.5 1642.6,-99.5 1652.54,-99.5\"/>\n<polygon fill=\"black\" stroke=\"black\" points=\"1652.52,-103 1662.52,-99.5 1652.52,-96 1652.52,-103\"/>\n</g>\n<!-- 5226442960 -->\n<g id=\"node16\" class=\"node\">\n<title>5226442960</title>\n<polygon fill=\"none\" stroke=\"black\" points=\"331.5,-55.5 331.5,-91.5 540.5,-91.5 540.5,-55.5 331.5,-55.5\"/>\n<text text-anchor=\"middle\" x=\"355\" y=\"-69.8\" font-family=\"Times,serif\" font-size=\"14.00\">x2w2</text>\n<polyline fill=\"none\" stroke=\"black\" points=\"378.5,-55.5 378.5,-91.5\"/>\n<text text-anchor=\"middle\" x=\"418.5\" y=\"-69.8\" font-family=\"Times,serif\" font-size=\"14.00\">data 0.0000</text>\n<polyline fill=\"none\" stroke=\"black\" points=\"458.5,-55.5 458.5,-91.5\"/>\n<text text-anchor=\"middle\" x=\"499.5\" y=\"-69.8\" font-family=\"Times,serif\" font-size=\"14.00\">grad 0.5000</text>\n</g>\n<!-- 5226442960&#45;&gt;5226911088+ -->\n<g id=\"edge20\" class=\"edge\">\n<title>5226442960&#45;&gt;5226911088+</title>\n<path fill=\"none\" stroke=\"black\" d=\"M540.42,-89.83C551.42,-91.57 562,-93.24 571.4,-94.72\"/>\n<polygon fill=\"black\" stroke=\"black\" points=\"570.8,-98.33 581.23,-96.43 571.89,-91.41 570.8,-98.33\"/>\n</g>\n<!-- 5226442960*&#45;&gt;5226442960 -->\n<g id=\"edge6\" class=\"edge\">\n<title>5226442960*&#45;&gt;5226442960</title>\n<path fill=\"none\" stroke=\"black\" d=\"M290.34,-73.5C299.15,-73.5 309.59,-73.5 320.78,-73.5\"/>\n<polygon fill=\"black\" stroke=\"black\" points=\"320.7,-77 330.7,-73.5 320.7,-70 320.7,-77\"/>\n</g>\n<!-- 5226909936 -->\n<g id=\"node18\" class=\"node\">\n<title>5226909936</title>\n<polygon fill=\"none\" stroke=\"black\" points=\"2196,-108.5 2196,-144.5 2378,-144.5 2378,-108.5 2196,-108.5\"/>\n<text text-anchor=\"middle\" x=\"2206\" y=\"-122.8\" font-family=\"Times,serif\" font-size=\"14.00\"> </text>\n<polyline fill=\"none\" stroke=\"black\" points=\"2216,-108.5 2216,-144.5\"/>\n<text text-anchor=\"middle\" x=\"2256\" y=\"-122.8\" font-family=\"Times,serif\" font-size=\"14.00\">data 4.8284</text>\n<polyline fill=\"none\" stroke=\"black\" points=\"2296,-108.5 2296,-144.5\"/>\n<text text-anchor=\"middle\" x=\"2337\" y=\"-122.8\" font-family=\"Times,serif\" font-size=\"14.00\">grad 0.1464</text>\n</g>\n<!-- 5226909936&#45;&gt;5226906624* -->\n<g id=\"edge25\" class=\"edge\">\n<title>5226909936&#45;&gt;5226906624*</title>\n<path fill=\"none\" stroke=\"black\" d=\"M2377.97,-119.92C2439.4,-115.4 2522.63,-109.2 2596,-103.5 2604.07,-102.87 2612.73,-102.19 2620.94,-101.53\"/>\n<polygon fill=\"black\" stroke=\"black\" points=\"2621.07,-104.94 2630.76,-100.65 2620.51,-97.97 2621.07,-104.94\"/>\n</g>\n<!-- 5226909936+&#45;&gt;5226909936 -->\n<g id=\"edge7\" class=\"edge\">\n<title>5226909936+&#45;&gt;5226909936</title>\n<path fill=\"none\" stroke=\"black\" d=\"M1938.3,-126.5C1988.79,-126.5 2101.71,-126.5 2185.24,-126.5\"/>\n<polygon fill=\"black\" stroke=\"black\" points=\"2185.05,-130 2195.05,-126.5 2185.05,-123 2185.05,-130\"/>\n</g>\n<!-- 5226445072 -->\n<g id=\"node20\" class=\"node\">\n<title>5226445072</title>\n<polygon fill=\"none\" stroke=\"black\" points=\"2,-110.5 2,-146.5 198,-146.5 198,-110.5 2,-110.5\"/>\n<text text-anchor=\"middle\" x=\"17\" y=\"-124.8\" font-family=\"Times,serif\" font-size=\"14.00\">x1</text>\n<polyline fill=\"none\" stroke=\"black\" points=\"32,-110.5 32,-146.5\"/>\n<text text-anchor=\"middle\" x=\"72\" y=\"-124.8\" font-family=\"Times,serif\" font-size=\"14.00\">data 2.0000</text>\n<polyline fill=\"none\" stroke=\"black\" points=\"112,-110.5 112,-146.5\"/>\n<text text-anchor=\"middle\" x=\"155\" y=\"-124.8\" font-family=\"Times,serif\" font-size=\"14.00\">grad &#45;1.5000</text>\n</g>\n<!-- 5226445072&#45;&gt;5226433648* -->\n<g id=\"edge27\" class=\"edge\">\n<title>5226445072&#45;&gt;5226433648*</title>\n<path fill=\"none\" stroke=\"black\" d=\"M197.91,-128.5C207.43,-128.5 216.63,-128.5 224.95,-128.5\"/>\n<polygon fill=\"black\" stroke=\"black\" points=\"224.7,-132 234.7,-128.5 224.7,-125 224.7,-132\"/>\n</g>\n<!-- 5226446128 -->\n<g id=\"node21\" class=\"node\">\n<title>5226446128</title>\n<polygon fill=\"none\" stroke=\"black\" points=\"2.5,-0.5 2.5,-36.5 197.5,-36.5 197.5,-0.5 2.5,-0.5\"/>\n<text text-anchor=\"middle\" x=\"19\" y=\"-14.8\" font-family=\"Times,serif\" font-size=\"14.00\">w2</text>\n<polyline fill=\"none\" stroke=\"black\" points=\"35.5,-0.5 35.5,-36.5\"/>\n<text text-anchor=\"middle\" x=\"75.5\" y=\"-14.8\" font-family=\"Times,serif\" font-size=\"14.00\">data 1.0000</text>\n<polyline fill=\"none\" stroke=\"black\" points=\"115.5,-0.5 115.5,-36.5\"/>\n<text text-anchor=\"middle\" x=\"156.5\" y=\"-14.8\" font-family=\"Times,serif\" font-size=\"14.00\">grad 0.0000</text>\n</g>\n<!-- 5226446128&#45;&gt;5226442960* -->\n<g id=\"edge18\" class=\"edge\">\n<title>5226446128&#45;&gt;5226442960*</title>\n<path fill=\"none\" stroke=\"black\" d=\"M172.27,-36.48C181.67,-39.28 191.12,-42.3 200,-45.5 210.31,-49.21 221.29,-53.91 231.1,-58.39\"/>\n<polygon fill=\"black\" stroke=\"black\" points=\"229.28,-61.87 239.82,-62.93 232.25,-55.53 229.28,-61.87\"/>\n</g>\n<!-- 5226910032 -->\n<g id=\"node22\" class=\"node\">\n<title>5226910032</title>\n<polygon fill=\"none\" stroke=\"black\" points=\"1974,-53.5 1974,-89.5 2160,-89.5 2160,-53.5 1974,-53.5\"/>\n<text text-anchor=\"middle\" x=\"1984\" y=\"-67.8\" font-family=\"Times,serif\" font-size=\"14.00\"> </text>\n<polyline fill=\"none\" stroke=\"black\" points=\"1994,-53.5 1994,-89.5\"/>\n<text text-anchor=\"middle\" x=\"2034\" y=\"-67.8\" font-family=\"Times,serif\" font-size=\"14.00\">data 6.8284</text>\n<polyline fill=\"none\" stroke=\"black\" points=\"2074,-53.5 2074,-89.5\"/>\n<text text-anchor=\"middle\" x=\"2117\" y=\"-67.8\" font-family=\"Times,serif\" font-size=\"14.00\">grad &#45;0.1036</text>\n</g>\n<!-- 5226910032&#45;&gt;5226906288**&#45;1 -->\n<g id=\"edge16\" class=\"edge\">\n<title>5226910032&#45;&gt;5226906288**&#45;1</title>\n<path fill=\"none\" stroke=\"black\" d=\"M2159.82,-71.5C2191.16,-71.5 2224.45,-71.5 2248.96,-71.5\"/>\n<polygon fill=\"black\" stroke=\"black\" points=\"2248.9,-75 2258.9,-71.5 2248.9,-68 2248.9,-75\"/>\n</g>\n<!-- 5226910032+&#45;&gt;5226910032 -->\n<g id=\"edge8\" class=\"edge\">\n<title>5226910032+&#45;&gt;5226910032</title>\n<path fill=\"none\" stroke=\"black\" d=\"M1938.47,-71.5C1945.83,-71.5 1954.29,-71.5 1963.27,-71.5\"/>\n<polygon fill=\"black\" stroke=\"black\" points=\"1963.03,-75 1973.03,-71.5 1963.03,-68 1963.03,-75\"/>\n</g>\n<!-- 5226911088 -->\n<g id=\"node24\" class=\"node\">\n<title>5226911088</title>\n<polygon fill=\"none\" stroke=\"black\" points=\"672,-82.5 672,-118.5 916,-118.5 916,-82.5 672,-82.5\"/>\n<text text-anchor=\"middle\" x=\"710.5\" y=\"-96.8\" font-family=\"Times,serif\" font-size=\"14.00\">x1w1x2w2</text>\n<polyline fill=\"none\" stroke=\"black\" points=\"749,-82.5 749,-118.5\"/>\n<text text-anchor=\"middle\" x=\"791.5\" y=\"-96.8\" font-family=\"Times,serif\" font-size=\"14.00\">data &#45;6.0000</text>\n<polyline fill=\"none\" stroke=\"black\" points=\"834,-82.5 834,-118.5\"/>\n<text text-anchor=\"middle\" x=\"875\" y=\"-96.8\" font-family=\"Times,serif\" font-size=\"14.00\">grad 0.5000</text>\n</g>\n<!-- 5226911088&#45;&gt;5226906672+ -->\n<g id=\"edge24\" class=\"edge\">\n<title>5226911088&#45;&gt;5226906672+</title>\n<path fill=\"none\" stroke=\"black\" d=\"M915.79,-118.32C924.93,-119.67 933.64,-120.95 941.48,-122.11\"/>\n<polygon fill=\"black\" stroke=\"black\" points=\"940.91,-125.71 951.32,-123.71 941.94,-118.79 940.91,-125.71\"/>\n</g>\n<!-- 5226911088+&#45;&gt;5226911088 -->\n<g id=\"edge9\" class=\"edge\">\n<title>5226911088+&#45;&gt;5226911088</title>\n<path fill=\"none\" stroke=\"black\" d=\"M636.22,-100.5C643.62,-100.5 652.2,-100.5 661.46,-100.5\"/>\n<polygon fill=\"black\" stroke=\"black\" points=\"661.19,-104 671.19,-100.5 661.19,-97 661.19,-104\"/>\n</g>\n<!-- 5226911616 -->\n<g id=\"node26\" class=\"node\">\n<title>5226911616</title>\n<polygon fill=\"none\" stroke=\"black\" points=\"1353,-81.5 1353,-117.5 1535,-117.5 1535,-81.5 1353,-81.5\"/>\n<text text-anchor=\"middle\" x=\"1363\" y=\"-95.8\" font-family=\"Times,serif\" font-size=\"14.00\"> </text>\n<polyline fill=\"none\" stroke=\"black\" points=\"1373,-81.5 1373,-117.5\"/>\n<text text-anchor=\"middle\" x=\"1413\" y=\"-95.8\" font-family=\"Times,serif\" font-size=\"14.00\">data 1.7627</text>\n<polyline fill=\"none\" stroke=\"black\" points=\"1453,-81.5 1453,-117.5\"/>\n<text text-anchor=\"middle\" x=\"1494\" y=\"-95.8\" font-family=\"Times,serif\" font-size=\"14.00\">grad 0.2500</text>\n</g>\n<!-- 5226911616&#45;&gt;5226912960exp -->\n<g id=\"edge14\" class=\"edge\">\n<title>5226911616&#45;&gt;5226912960exp</title>\n<path fill=\"none\" stroke=\"black\" d=\"M1534.74,-99.5C1543.55,-99.5 1552.1,-99.5 1559.91,-99.5\"/>\n<polygon fill=\"black\" stroke=\"black\" points=\"1559.75,-103 1569.75,-99.5 1559.75,-96 1559.75,-103\"/>\n</g>\n<!-- 5226911616*&#45;&gt;5226911616 -->\n<g id=\"edge10\" class=\"edge\">\n<title>5226911616*&#45;&gt;5226911616</title>\n<path fill=\"none\" stroke=\"black\" d=\"M1317.48,-99.5C1324.87,-99.5 1333.38,-99.5 1342.4,-99.5\"/>\n<polygon fill=\"black\" stroke=\"black\" points=\"1342.2,-103 1352.2,-99.5 1342.2,-96 1342.2,-103\"/>\n</g>\n<!-- 5226906000 -->\n<g id=\"node28\" class=\"node\">\n<title>5226906000</title>\n<polygon fill=\"none\" stroke=\"black\" points=\"1661.5,-26.5 1661.5,-62.5 1847.5,-62.5 1847.5,-26.5 1661.5,-26.5\"/>\n<text text-anchor=\"middle\" x=\"1671.5\" y=\"-40.8\" font-family=\"Times,serif\" font-size=\"14.00\"> </text>\n<polyline fill=\"none\" stroke=\"black\" points=\"1681.5,-26.5 1681.5,-62.5\"/>\n<text text-anchor=\"middle\" x=\"1721.5\" y=\"-40.8\" font-family=\"Times,serif\" font-size=\"14.00\">data 1.0000</text>\n<polyline fill=\"none\" stroke=\"black\" points=\"1761.5,-26.5 1761.5,-62.5\"/>\n<text text-anchor=\"middle\" x=\"1804.5\" y=\"-40.8\" font-family=\"Times,serif\" font-size=\"14.00\">grad &#45;0.1036</text>\n</g>\n<!-- 5226906000&#45;&gt;5226910032+ -->\n<g id=\"edge22\" class=\"edge\">\n<title>5226906000&#45;&gt;5226910032+</title>\n<path fill=\"none\" stroke=\"black\" d=\"M1847.16,-60.52C1856.54,-62.16 1865.63,-63.75 1873.84,-65.18\"/>\n<polygon fill=\"black\" stroke=\"black\" points=\"1872.99,-68.76 1883.44,-67.03 1874.2,-61.86 1872.99,-68.76\"/>\n</g>\n</g>\n</svg>\n",
      "text/plain": [
       "<graphviz.graphs.Digraph at 0x1378c52a0>"
      ]
     },
     "execution_count": 16,
     "metadata": {},
     "output_type": "execute_result"
    }
   ],
   "source": [
    "# inputs x1, x2\n",
    "x1 = Value(2.0, label='x1')\n",
    "x2 = Value(0.0, label='x2')\n",
    "\n",
    "w1 = Value(-3.0, label='w1')\n",
    "w2 = Value(1.0, label='w2')\n",
    "\n",
    "b = Value(6.88137335870195432, label='b')\n",
    "\n",
    "x1w1 = x1 * w1\n",
    "x1w1.label = 'x1*w1'\n",
    "\n",
    "x2w2 = x2 * w2\n",
    "x2w2.label = 'x2w2'\n",
    "\n",
    "x1w1x2w2 = x1w1 + x2w2\n",
    "x1w1x2w2.label = 'x1w1x2w2'\n",
    "\n",
    "n = x1w1x2w2 + b\n",
    "n.label = 'n'\n",
    "\n",
    "e = (2 * n).exp()\n",
    "o = (e - 1) / (e + 1)\n",
    "o.label = 'o'\n",
    "\n",
    "o.backward()\n",
    "draw_dot(o)\n"
   ]
  },
  {
   "cell_type": "code",
   "execution_count": 17,
   "metadata": {},
   "outputs": [
    {
     "name": "stdout",
     "output_type": "stream",
     "text": [
      "Requirement already satisfied: torch in ./.venv/lib/python3.10/site-packages (2.0.0)\n",
      "Requirement already satisfied: jinja2 in ./.venv/lib/python3.10/site-packages (from torch) (3.1.2)\n",
      "Requirement already satisfied: typing-extensions in ./.venv/lib/python3.10/site-packages (from torch) (4.5.0)\n",
      "Requirement already satisfied: sympy in ./.venv/lib/python3.10/site-packages (from torch) (1.11.1)\n",
      "Requirement already satisfied: filelock in ./.venv/lib/python3.10/site-packages (from torch) (3.10.7)\n",
      "Requirement already satisfied: networkx in ./.venv/lib/python3.10/site-packages (from torch) (3.0)\n",
      "Requirement already satisfied: MarkupSafe>=2.0 in ./.venv/lib/python3.10/site-packages (from jinja2->torch) (2.1.2)\n",
      "Requirement already satisfied: mpmath>=0.19 in ./.venv/lib/python3.10/site-packages (from sympy->torch) (1.3.0)\n"
     ]
    }
   ],
   "source": [
    "!pip install torch\n"
   ]
  },
  {
   "cell_type": "code",
   "execution_count": 18,
   "metadata": {},
   "outputs": [
    {
     "name": "stdout",
     "output_type": "stream",
     "text": [
      "0.7069886534797297\n",
      "---\n",
      "x2 0.5001670438509187\n",
      "w2 0.0\n",
      "x1 -1.500501131552756\n",
      "w1 1.0003340877018374\n"
     ]
    }
   ],
   "source": [
    "import torch\n",
    "\n",
    "x1 = torch.Tensor([2.0]).double()\n",
    "x1.requires_grad = True\n",
    "x2 = torch.Tensor([0.0]).double()\n",
    "x2.requires_grad = True\n",
    "w1 = torch.Tensor([-3.0]).double()\n",
    "w1.requires_grad = True\n",
    "w2 = torch.Tensor([1.0]).double()\n",
    "w2.requires_grad = True\n",
    "b = torch.Tensor([6.88113735870195432]).double()\n",
    "b.requires_grad = True\n",
    "n = x1 * w1 + x2 * w2 + b\n",
    "o = torch.tanh(n)\n",
    "\n",
    "print(o.data.item())\n",
    "o.backward()\n",
    "\n",
    "print('---')\n",
    "print('x2', x2.grad.item())\n",
    "print('w2', w2.grad.item())\n",
    "print('x1', x1.grad.item())\n",
    "print('w1', w1.grad.item())\n"
   ]
  },
  {
   "cell_type": "code",
   "execution_count": 189,
   "metadata": {},
   "outputs": [],
   "source": [
    "import random\n",
    "\n",
    "\n",
    "class Neuron:\n",
    "    def __init__(self, nin):\n",
    "        self.w = [Value(random.uniform(-1, 1)) for _ in range(nin)]\n",
    "        self.b = Value(random.uniform(1, -1))\n",
    "\n",
    "    def __call__(self, x):\n",
    "        # w * x + b\n",
    "        act = sum((wi * xi for wi, xi in zip(self.w, x)), self.b)\n",
    "        out = act.tanh()\n",
    "        return out\n",
    "\n",
    "    def parameters(self):\n",
    "        return self.w + [self.b]\n",
    "\n",
    "\n",
    "class Layer:\n",
    "    def __init__(self, nin, nout):\n",
    "        self.neurons = [Neuron(nin) for _ in range(nout)]\n",
    "\n",
    "    def __call__(self, x):\n",
    "        outs = [n(x) for n in self.neurons]\n",
    "        return outs[0] if len(outs) == 1 else outs\n",
    "\n",
    "    def parameters(self):\n",
    "        return [p for neuron in self.neurons for p in neuron.parameters()]\n",
    "\n",
    "\n",
    "class MLP:\n",
    "    def __init__(self, nin, nouts):\n",
    "        sz = [nin] + nouts\n",
    "        self.layers = [Layer(sz[i], sz[i+1]) for i in range(len(nouts))]\n",
    "\n",
    "    def __call__(self, x):\n",
    "        for layer in self.layers:\n",
    "            x = layer(x)\n",
    "        return x\n",
    "\n",
    "    def parameters(self):\n",
    "        return [p for layer in self.layers for p in layer.parameters()]\n"
   ]
  },
  {
   "cell_type": "code",
   "execution_count": 190,
   "metadata": {},
   "outputs": [
    {
     "data": {
      "text/plain": [
       "Value(data=-0.6007454607040303)"
      ]
     },
     "execution_count": 190,
     "metadata": {},
     "output_type": "execute_result"
    }
   ],
   "source": [
    "x = [2.0, 3.0,  -1.0]\n",
    "n = MLP(3, [4, 4, 1])\n",
    "n(x)"
   ]
  },
  {
   "cell_type": "code",
   "execution_count": 191,
   "metadata": {},
   "outputs": [],
   "source": [
    "xs = [\n",
    "    [2.0, 3.0, -1.0],\n",
    "    [3.0, -1.0, 0.5],\n",
    "    [0.5, 1.0, 1.0],\n",
    "    [1.0, 1.0, -1.0],\n",
    "]\n",
    "\n",
    "ys = [1.0, -1.0, -1.0, 1.0]"
   ]
  },
  {
   "cell_type": "code",
   "execution_count": 349,
   "metadata": {},
   "outputs": [
    {
     "name": "stdout",
     "output_type": "stream",
     "text": [
      "0 5.138970761207861e-05\n",
      "1 5.137403971153863e-05\n",
      "2 5.135838113330735e-05\n",
      "3 5.1342731869144184e-05\n",
      "4 5.1327091910822084e-05\n",
      "5 5.131146125012208e-05\n",
      "6 5.129583987883421e-05\n",
      "7 5.128022778875649e-05\n",
      "8 5.1264624971699015e-05\n",
      "9 5.124903141947832e-05\n",
      "10 5.123344712392975e-05\n",
      "11 5.121787207688664e-05\n",
      "12 5.120230627019383e-05\n",
      "13 5.118674969571551e-05\n",
      "14 5.1171202345310024e-05\n",
      "15 5.115566421086174e-05\n",
      "16 5.114013528425034e-05\n",
      "17 5.112461555737298e-05\n",
      "18 5.110910502213611e-05\n",
      "19 5.109360367045247e-05\n",
      "20 5.107811149424251e-05\n",
      "21 5.106262848544324e-05\n",
      "22 5.1047154635993966e-05\n",
      "23 5.103168993784921e-05\n",
      "24 5.1016234382966636e-05\n",
      "25 5.100078796331984e-05\n",
      "26 5.0985350670886264e-05\n",
      "27 5.096992249765482e-05\n",
      "28 5.095450343563025e-05\n",
      "29 5.0939093476810156e-05\n",
      "30 5.0923692613215756e-05\n",
      "31 5.0908300836877844e-05\n",
      "32 5.0892918139825764e-05\n",
      "33 5.0877544514107165e-05\n",
      "34 5.086217995177574e-05\n",
      "35 5.0846824444893344e-05\n",
      "36 5.0831477985536556e-05\n",
      "37 5.08161405657819e-05\n",
      "38 5.080081217772573e-05\n",
      "39 5.078549281346286e-05\n",
      "40 5.07701824651061e-05\n",
      "41 5.07548811247715e-05\n",
      "42 5.0739588784587996e-05\n",
      "43 5.072430543669385e-05\n",
      "44 5.070903107322929e-05\n",
      "45 5.0693765686355456e-05\n",
      "46 5.0678509268232347e-05\n",
      "47 5.0663261811032766e-05\n",
      "48 5.0648023306942646e-05\n",
      "49 5.063279374815162e-05\n",
      "50 5.0617573126857564e-05\n",
      "51 5.0602361435269905e-05\n",
      "52 5.058715866560803e-05\n",
      "53 5.0571964810100343e-05\n",
      "54 5.0556779860981316e-05\n",
      "55 5.0541603810494743e-05\n",
      "56 5.052643665089953e-05\n",
      "57 5.0511278374452516e-05\n",
      "58 5.049612897342795e-05\n",
      "59 5.048098844010908e-05\n",
      "60 5.046585676678379e-05\n",
      "61 5.04507339457488e-05\n",
      "62 5.043561996931696e-05\n",
      "63 5.042051482979721e-05\n",
      "64 5.040541851952265e-05\n",
      "65 5.03903310308212e-05\n",
      "66 5.0375252356036985e-05\n",
      "67 5.036018248752414e-05\n",
      "68 5.034512141764069e-05\n",
      "69 5.033006913875962e-05\n",
      "70 5.031502564325271e-05\n",
      "71 5.02999909235133e-05\n",
      "72 5.0284964971933124e-05\n",
      "73 5.026994778091726e-05\n",
      "74 5.0254939342879797e-05\n",
      "75 5.0239939650239946e-05\n",
      "76 5.02249486954306e-05\n",
      "77 5.020996647089064e-05\n",
      "78 5.01949929690666e-05\n",
      "79 5.0180028182416345e-05\n",
      "80 5.0165072103404354e-05\n",
      "81 5.015012472450257e-05\n",
      "82 5.0135186038198864e-05\n",
      "83 5.012025603697946e-05\n",
      "84 5.0105334713344534e-05\n",
      "85 5.009042205980021e-05\n",
      "86 5.007551806887001e-05\n",
      "87 5.0060622733074436e-05\n",
      "88 5.004573604494662e-05\n",
      "89 5.0030857997029036e-05\n",
      "90 5.0015988581876965e-05\n",
      "91 5.0001127792047016e-05\n",
      "92 4.998627562010624e-05\n",
      "93 4.997143205863312e-05\n",
      "94 4.9956597100208864e-05\n",
      "95 4.994177073743174e-05\n",
      "96 4.9926952962901586e-05\n",
      "97 4.991214376922696e-05\n",
      "98 4.989734314902943e-05\n",
      "99 4.9882551094934126e-05\n"
     ]
    }
   ],
   "source": [
    "for k in range(100):\n",
    "    ypred = [n(x) for x in xs]\n",
    "    loss = sum((yout - ygt) ** 2 for ygt, yout in zip(ys, ypred))\n",
    "\n",
    "    for p in n.parameters():\n",
    "        p.grad = 0.0\n",
    "\n",
    "    loss.backward()\n",
    "\n",
    "    for p in n.parameters():\n",
    "        p.data += -0.2 * p.grad\n",
    "\n",
    "    print(k, loss.data)\n"
   ]
  },
  {
   "cell_type": "code",
   "execution_count": 351,
   "metadata": {},
   "outputs": [
    {
     "data": {
      "text/plain": [
       "[Value(data=0.9972322546063341),\n",
       " Value(data=-0.9970083906124345),\n",
       " Value(data=-0.9958411267655053),\n",
       " Value(data=0.996004827947753)]"
      ]
     },
     "execution_count": 351,
     "metadata": {},
     "output_type": "execute_result"
    }
   ],
   "source": [
    "ypred = [n(x) for x in xs]\n",
    "ypred"
   ]
  }
 ],
 "metadata": {
  "kernelspec": {
   "display_name": "Python 3",
   "language": "python",
   "name": "python3"
  },
  "language_info": {
   "codemirror_mode": {
    "name": "ipython",
    "version": 3
   },
   "file_extension": ".py",
   "mimetype": "text/x-python",
   "name": "python",
   "nbconvert_exporter": "python",
   "pygments_lexer": "ipython3",
   "version": "3.10.7"
  },
  "orig_nbformat": 4
 },
 "nbformat": 4,
 "nbformat_minor": 2
}

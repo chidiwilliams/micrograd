{
 "cells": [
  {
   "cell_type": "code",
   "execution_count": 96,
   "metadata": {},
   "outputs": [
    {
     "name": "stdout",
     "output_type": "stream",
     "text": [
      "Requirement already satisfied: graphviz in ./.venv/lib/python3.10/site-packages (0.20.1)\n",
      "Requirement already satisfied: numpy in ./.venv/lib/python3.10/site-packages (1.24.2)\n",
      "Requirement already satisfied: matplotlib in ./.venv/lib/python3.10/site-packages (3.7.1)\n",
      "Requirement already satisfied: pyparsing>=2.3.1 in ./.venv/lib/python3.10/site-packages (from matplotlib) (3.0.9)\n",
      "Requirement already satisfied: contourpy>=1.0.1 in ./.venv/lib/python3.10/site-packages (from matplotlib) (1.0.7)\n",
      "Requirement already satisfied: python-dateutil>=2.7 in ./.venv/lib/python3.10/site-packages (from matplotlib) (2.8.2)\n",
      "Requirement already satisfied: packaging>=20.0 in ./.venv/lib/python3.10/site-packages (from matplotlib) (23.0)\n",
      "Requirement already satisfied: kiwisolver>=1.0.1 in ./.venv/lib/python3.10/site-packages (from matplotlib) (1.4.4)\n",
      "Requirement already satisfied: fonttools>=4.22.0 in ./.venv/lib/python3.10/site-packages (from matplotlib) (4.39.3)\n",
      "Requirement already satisfied: pillow>=6.2.0 in ./.venv/lib/python3.10/site-packages (from matplotlib) (9.5.0)\n",
      "Requirement already satisfied: cycler>=0.10 in ./.venv/lib/python3.10/site-packages (from matplotlib) (0.11.0)\n",
      "Requirement already satisfied: six>=1.5 in ./.venv/lib/python3.10/site-packages (from python-dateutil>=2.7->matplotlib) (1.16.0)\n"
     ]
    }
   ],
   "source": [
    "!pip install graphviz numpy matplotlib\n"
   ]
  },
  {
   "cell_type": "code",
   "execution_count": 97,
   "metadata": {},
   "outputs": [],
   "source": [
    "import matplotlib.pyplot as plt\n",
    "import numpy as np\n",
    "import math\n",
    "import os\n",
    "os.environ[\"PATH\"] += os.pathsep + \"/opt/homebrew/bin\"\n",
    "\n",
    "%matplotlib inline\n"
   ]
  },
  {
   "cell_type": "code",
   "execution_count": 6,
   "metadata": {},
   "outputs": [],
   "source": [
    "def f(x):\n",
    "    return 3 * x ** 2 - 4 * x + 5\n"
   ]
  },
  {
   "cell_type": "code",
   "execution_count": 7,
   "metadata": {},
   "outputs": [
    {
     "data": {
      "text/plain": [
       "20.0"
      ]
     },
     "execution_count": 7,
     "metadata": {},
     "output_type": "execute_result"
    }
   ],
   "source": [
    "f(3.0)\n"
   ]
  },
  {
   "cell_type": "code",
   "execution_count": 8,
   "metadata": {},
   "outputs": [
    {
     "data": {
      "text/plain": [
       "[<matplotlib.lines.Line2D at 0x139b7a440>]"
      ]
     },
     "execution_count": 8,
     "metadata": {},
     "output_type": "execute_result"
    },
    {
     "data": {
      "image/png": "[encoded data removed]",
      "text/plain": [
       "<Figure size 640x480 with 1 Axes>"
      ]
     },
     "metadata": {},
     "output_type": "display_data"
    }
   ],
   "source": [
    "xs = np.arange(-5, 5, 0.25)\n",
    "ys = f(xs)\n",
    "plt.plot(xs, ys)\n"
   ]
  },
  {
   "cell_type": "code",
   "execution_count": 9,
   "metadata": {},
   "outputs": [
    {
     "data": {
      "text/plain": [
       "0.0"
      ]
     },
     "execution_count": 9,
     "metadata": {},
     "output_type": "execute_result"
    }
   ],
   "source": [
    "h = 0.000000001\n",
    "x = 2/3\n",
    "(f(x + h) - f(x)) / h\n"
   ]
  },
  {
   "cell_type": "code",
   "execution_count": 101,
   "metadata": {},
   "outputs": [
    {
     "data": {
      "text/plain": [
       "Value(data=-8.0)"
      ]
     },
     "execution_count": 101,
     "metadata": {},
     "output_type": "execute_result"
    }
   ],
   "source": [
    "class Value:\n",
    "    def __init__(self, data: float, _children=(), _op='', label='') -> None:\n",
    "        self.data = data\n",
    "        self.grad = 0.0\n",
    "        self._backward = lambda: None\n",
    "        self._prev = set(_children)\n",
    "        self._op = _op\n",
    "        self.label = label\n",
    "\n",
    "    def __repr__(self) -> str:\n",
    "        return f\"Value(data={self.data})\"\n",
    "\n",
    "    def __add__(self, other):\n",
    "        other = other if isinstance(other, Value) else Value(other)\n",
    "        out = Value(self.data + other.data, (self, other), '+')\n",
    "\n",
    "        def _backward():\n",
    "            self.grad += 1.0 * out.grad\n",
    "            other.grad += 1.0 * out.grad\n",
    "\n",
    "        out._backward = _backward\n",
    "        return out\n",
    "\n",
    "    def __neg__(self):\n",
    "        return self * -1\n",
    "\n",
    "    def __sub__(self, other):\n",
    "        return self + (-other)\n",
    "\n",
    "    def __mul__(self, other):\n",
    "        other = other if isinstance(other, Value) else Value(other)\n",
    "        out = Value(self.data * other.data, (self, other), '*')\n",
    "\n",
    "        def _backward():\n",
    "            self.grad += other.data * out.grad\n",
    "            other.grad += self.data * out.grad\n",
    "\n",
    "        out._backward = _backward\n",
    "        return out\n",
    "\n",
    "    def __rmul__(self, other):\n",
    "        return self * other\n",
    "\n",
    "    def __pow__(self, other):\n",
    "        assert isinstance(other, (int, float)\n",
    "                          ), \"only supporting int/floats for now\"\n",
    "        out = Value(self.data**other, (self, ), f'**{other}')\n",
    "\n",
    "        def _backward():\n",
    "            self.grad += other * self.data ** (other - 1) * out.grad\n",
    "\n",
    "        out._backward = _backward\n",
    "        return out\n",
    "\n",
    "    def __truediv__(self, other):\n",
    "        return self * other ** -1\n",
    "\n",
    "    def exp(self):\n",
    "        x = self.data\n",
    "        out = Value(math.exp(x), (self, ), 'exp')\n",
    "\n",
    "        def _backward():\n",
    "            self.grad += out.data * out.grad\n",
    "\n",
    "        out._backward = _backward\n",
    "        return out\n",
    "\n",
    "    def tanh(self):\n",
    "        n = self.data\n",
    "        t = (math.exp(2 * n) - 1) / (math.exp(2 * n) + 1)\n",
    "        out = Value(t, (self, ), 'tanh')\n",
    "\n",
    "        def _backward():\n",
    "            self.grad += (1 - t**2) * out.grad\n",
    "\n",
    "        out._backward = _backward\n",
    "        return out\n",
    "\n",
    "    def backward(self):\n",
    "        topo = []\n",
    "        visited = set()\n",
    "\n",
    "        def build_topo(v):\n",
    "            if v not in visited:\n",
    "                visited.add(v)\n",
    "                for child in v._prev:\n",
    "                    build_topo(child)\n",
    "                topo.append(v)\n",
    "\n",
    "        build_topo(self)\n",
    "\n",
    "        self.grad = 1.0\n",
    "        for node in reversed(topo):\n",
    "            node._backward()\n",
    "\n",
    "\n",
    "a = Value(2.0, label='a')\n",
    "b = Value(-3.0, label='b')\n",
    "c = Value(10.0, label='c')\n",
    "e = a * b\n",
    "e.label = 'e'\n",
    "d = e + c\n",
    "d.label = 'd'\n",
    "f = Value(-2.0, label='f')\n",
    "L = d * f\n",
    "L.label = 'L'\n",
    "L\n"
   ]
  },
  {
   "cell_type": "code",
   "execution_count": 18,
   "metadata": {},
   "outputs": [],
   "source": [
    "from graphviz import Digraph\n",
    "\n",
    "\n",
    "def trace(root):\n",
    "    # builds a set of all nodes and edges in a graph\n",
    "    nodes, edges = set(), set()\n",
    "\n",
    "    def build(v):\n",
    "        if v not in nodes:\n",
    "            nodes.add(v)\n",
    "            for child in v._prev:\n",
    "                edges.add((child, v))\n",
    "                build(child)\n",
    "\n",
    "    build(root)\n",
    "    return nodes, edges\n",
    "\n",
    "\n",
    "def draw_dot(root):\n",
    "    dot = Digraph(format='svg', graph_attr={'rankdir': 'LR'})\n",
    "    nodes, edges = trace(root)\n",
    "    for n in nodes:\n",
    "        uid = str(id(n))\n",
    "        dot.node(name=uid, label=\"{ %s | data %.4f | grad %.4f }\" %\n",
    "                 (n.label, n.data, n.grad), shape='record')\n",
    "        if n._op:\n",
    "            dot.node(name=uid + n._op, label=n._op)\n",
    "            dot.edge(uid + n._op, uid)\n",
    "\n",
    "    for n1, n2 in edges:\n",
    "        dot.edge(str(id(n1)), str(id(n2)) + n2._op)\n",
    "\n",
    "    return dot\n"
   ]
  },
  {
   "cell_type": "code",
   "execution_count": 22,
   "metadata": {},
   "outputs": [
    {
     "data": {
      "image/svg+xml": "<?xml version=\"1.0\" encoding=\"UTF-8\" standalone=\"no\"?>\n<!DOCTYPE svg PUBLIC \"-//W3C//DTD SVG 1.1//EN\"\n \"http://www.w3.org/Graphics/SVG/1.1/DTD/svg11.dtd\">\n<!-- Generated by graphviz version 8.0.1 (20230327.1645)\n -->\n<!-- Pages: 1 -->\n<svg width=\"1157pt\" height=\"154pt\"\n viewBox=\"0.00 0.00 1157.00 154.00\" xmlns=\"http://www.w3.org/2000/svg\" xmlns:xlink=\"http://www.w3.org/1999/xlink\">\n<g id=\"graph0\" class=\"graph\" transform=\"scale(1 1) rotate(0) translate(4 150)\">\n<polygon fill=\"white\" stroke=\"none\" points=\"-4,4 -4,-150 1153,-150 1153,4 -4,4\"/>\n<!-- 5264422416 -->\n<g id=\"node1\" class=\"node\">\n<title>5264422416</title>\n<polygon fill=\"none\" stroke=\"black\" points=\"642,-54.5 642,-90.5 831,-90.5 831,-54.5 642,-54.5\"/>\n<text text-anchor=\"middle\" x=\"653.5\" y=\"-68.8\" font-family=\"Times,serif\" font-size=\"14.00\">d</text>\n<polyline fill=\"none\" stroke=\"black\" points=\"665,-54.5 665,-90.5\"/>\n<text text-anchor=\"middle\" x=\"705\" y=\"-68.8\" font-family=\"Times,serif\" font-size=\"14.00\">data 4.0000</text>\n<polyline fill=\"none\" stroke=\"black\" points=\"745,-54.5 745,-90.5\"/>\n<text text-anchor=\"middle\" x=\"788\" y=\"-68.8\" font-family=\"Times,serif\" font-size=\"14.00\">grad &#45;2.0000</text>\n</g>\n<!-- 5264422272* -->\n<g id=\"node9\" class=\"node\">\n<title>5264422272*</title>\n<ellipse fill=\"none\" stroke=\"black\" cx=\"894\" cy=\"-99.5\" rx=\"27\" ry=\"18\"/>\n<text text-anchor=\"middle\" x=\"894\" y=\"-95.8\" font-family=\"Times,serif\" font-size=\"14.00\">*</text>\n</g>\n<!-- 5264422416&#45;&gt;5264422272* -->\n<g id=\"edge4\" class=\"edge\">\n<title>5264422416&#45;&gt;5264422272*</title>\n<path fill=\"none\" stroke=\"black\" d=\"M830.65,-88.67C839.79,-90.26 848.64,-91.8 856.66,-93.19\"/>\n<polygon fill=\"black\" stroke=\"black\" points=\"855.94,-96.79 866.39,-95.05 857.13,-89.89 855.94,-96.79\"/>\n</g>\n<!-- 5264422416+ -->\n<g id=\"node2\" class=\"node\">\n<title>5264422416+</title>\n<ellipse fill=\"none\" stroke=\"black\" cx=\"579\" cy=\"-72.5\" rx=\"27\" ry=\"18\"/>\n<text text-anchor=\"middle\" x=\"579\" y=\"-68.8\" font-family=\"Times,serif\" font-size=\"14.00\">+</text>\n</g>\n<!-- 5264422416+&#45;&gt;5264422416 -->\n<g id=\"edge1\" class=\"edge\">\n<title>5264422416+&#45;&gt;5264422416</title>\n<path fill=\"none\" stroke=\"black\" d=\"M606.38,-72.5C613.79,-72.5 622.33,-72.5 631.41,-72.5\"/>\n<polygon fill=\"black\" stroke=\"black\" points=\"631.29,-76 641.29,-72.5 631.29,-69 631.29,-76\"/>\n</g>\n<!-- 4693344944 -->\n<g id=\"node3\" class=\"node\">\n<title>4693344944</title>\n<polygon fill=\"none\" stroke=\"black\" points=\"0,-55.5 0,-91.5 194,-91.5 194,-55.5 0,-55.5\"/>\n<text text-anchor=\"middle\" x=\"11.5\" y=\"-69.8\" font-family=\"Times,serif\" font-size=\"14.00\">b</text>\n<polyline fill=\"none\" stroke=\"black\" points=\"23,-55.5 23,-91.5\"/>\n<text text-anchor=\"middle\" x=\"65.5\" y=\"-69.8\" font-family=\"Times,serif\" font-size=\"14.00\">data &#45;3.0000</text>\n<polyline fill=\"none\" stroke=\"black\" points=\"108,-55.5 108,-91.5\"/>\n<text text-anchor=\"middle\" x=\"151\" y=\"-69.8\" font-family=\"Times,serif\" font-size=\"14.00\">grad &#45;4.0000</text>\n</g>\n<!-- 5264421168* -->\n<g id=\"node6\" class=\"node\">\n<title>5264421168*</title>\n<ellipse fill=\"none\" stroke=\"black\" cx=\"257\" cy=\"-45.5\" rx=\"27\" ry=\"18\"/>\n<text text-anchor=\"middle\" x=\"257\" y=\"-41.8\" font-family=\"Times,serif\" font-size=\"14.00\">*</text>\n</g>\n<!-- 4693344944&#45;&gt;5264421168* -->\n<g id=\"edge5\" class=\"edge\">\n<title>4693344944&#45;&gt;5264421168*</title>\n<path fill=\"none\" stroke=\"black\" d=\"M193.55,-56.57C202.74,-54.94 211.62,-53.37 219.65,-51.94\"/>\n<polygon fill=\"black\" stroke=\"black\" points=\"220.16,-55.23 229.39,-50.04 218.94,-48.34 220.16,-55.23\"/>\n</g>\n<!-- 4693346048 -->\n<g id=\"node4\" class=\"node\">\n<title>4693346048</title>\n<polygon fill=\"none\" stroke=\"black\" points=\"320,-82.5 320,-118.5 516,-118.5 516,-82.5 320,-82.5\"/>\n<text text-anchor=\"middle\" x=\"331.5\" y=\"-96.8\" font-family=\"Times,serif\" font-size=\"14.00\">c</text>\n<polyline fill=\"none\" stroke=\"black\" points=\"343,-82.5 343,-118.5\"/>\n<text text-anchor=\"middle\" x=\"386.5\" y=\"-96.8\" font-family=\"Times,serif\" font-size=\"14.00\">data 10.0000</text>\n<polyline fill=\"none\" stroke=\"black\" points=\"430,-82.5 430,-118.5\"/>\n<text text-anchor=\"middle\" x=\"473\" y=\"-96.8\" font-family=\"Times,serif\" font-size=\"14.00\">grad &#45;2.0000</text>\n</g>\n<!-- 4693346048&#45;&gt;5264422416+ -->\n<g id=\"edge6\" class=\"edge\">\n<title>4693346048&#45;&gt;5264422416+</title>\n<path fill=\"none\" stroke=\"black\" d=\"M515.62,-83.49C524.81,-81.87 533.68,-80.3 541.71,-78.89\"/>\n<polygon fill=\"black\" stroke=\"black\" points=\"542.2,-82.18 551.44,-77 540.99,-75.29 542.2,-82.18\"/>\n</g>\n<!-- 5264421168 -->\n<g id=\"node5\" class=\"node\">\n<title>5264421168</title>\n<polygon fill=\"none\" stroke=\"black\" points=\"321,-27.5 321,-63.5 515,-63.5 515,-27.5 321,-27.5\"/>\n<text text-anchor=\"middle\" x=\"332.5\" y=\"-41.8\" font-family=\"Times,serif\" font-size=\"14.00\">e</text>\n<polyline fill=\"none\" stroke=\"black\" points=\"344,-27.5 344,-63.5\"/>\n<text text-anchor=\"middle\" x=\"386.5\" y=\"-41.8\" font-family=\"Times,serif\" font-size=\"14.00\">data &#45;6.0000</text>\n<polyline fill=\"none\" stroke=\"black\" points=\"429,-27.5 429,-63.5\"/>\n<text text-anchor=\"middle\" x=\"472\" y=\"-41.8\" font-family=\"Times,serif\" font-size=\"14.00\">grad &#45;2.0000</text>\n</g>\n<!-- 5264421168&#45;&gt;5264422416+ -->\n<g id=\"edge7\" class=\"edge\">\n<title>5264421168&#45;&gt;5264422416+</title>\n<path fill=\"none\" stroke=\"black\" d=\"M514.7,-61.75C524.2,-63.36 533.37,-64.92 541.65,-66.33\"/>\n<polygon fill=\"black\" stroke=\"black\" points=\"540.88,-69.92 551.33,-68.14 542.06,-63.02 540.88,-69.92\"/>\n</g>\n<!-- 5264421168*&#45;&gt;5264421168 -->\n<g id=\"edge2\" class=\"edge\">\n<title>5264421168*&#45;&gt;5264421168</title>\n<path fill=\"none\" stroke=\"black\" d=\"M284.26,-45.5C291.95,-45.5 300.87,-45.5 310.38,-45.5\"/>\n<polygon fill=\"black\" stroke=\"black\" points=\"310.33,-49 320.33,-45.5 310.33,-42 310.33,-49\"/>\n</g>\n<!-- 5264423280 -->\n<g id=\"node7\" class=\"node\">\n<title>5264423280</title>\n<polygon fill=\"none\" stroke=\"black\" points=\"642.5,-109.5 642.5,-145.5 830.5,-145.5 830.5,-109.5 642.5,-109.5\"/>\n<text text-anchor=\"middle\" x=\"653\" y=\"-123.8\" font-family=\"Times,serif\" font-size=\"14.00\">f</text>\n<polyline fill=\"none\" stroke=\"black\" points=\"663.5,-109.5 663.5,-145.5\"/>\n<text text-anchor=\"middle\" x=\"706\" y=\"-123.8\" font-family=\"Times,serif\" font-size=\"14.00\">data &#45;2.0000</text>\n<polyline fill=\"none\" stroke=\"black\" points=\"748.5,-109.5 748.5,-145.5\"/>\n<text text-anchor=\"middle\" x=\"789.5\" y=\"-123.8\" font-family=\"Times,serif\" font-size=\"14.00\">grad 4.0000</text>\n</g>\n<!-- 5264423280&#45;&gt;5264422272* -->\n<g id=\"edge9\" class=\"edge\">\n<title>5264423280&#45;&gt;5264422272*</title>\n<path fill=\"none\" stroke=\"black\" d=\"M830.2,-110.81C839.59,-109.12 848.68,-107.48 856.89,-106\"/>\n<polygon fill=\"black\" stroke=\"black\" points=\"857.26,-109.31 866.48,-104.09 856.02,-102.42 857.26,-109.31\"/>\n</g>\n<!-- 5264422272 -->\n<g id=\"node8\" class=\"node\">\n<title>5264422272</title>\n<polygon fill=\"none\" stroke=\"black\" points=\"957,-81.5 957,-117.5 1149,-117.5 1149,-81.5 957,-81.5\"/>\n<text text-anchor=\"middle\" x=\"969.5\" y=\"-95.8\" font-family=\"Times,serif\" font-size=\"14.00\">L</text>\n<polyline fill=\"none\" stroke=\"black\" points=\"982,-81.5 982,-117.5\"/>\n<text text-anchor=\"middle\" x=\"1024.5\" y=\"-95.8\" font-family=\"Times,serif\" font-size=\"14.00\">data &#45;8.0000</text>\n<polyline fill=\"none\" stroke=\"black\" points=\"1067,-81.5 1067,-117.5\"/>\n<text text-anchor=\"middle\" x=\"1108\" y=\"-95.8\" font-family=\"Times,serif\" font-size=\"14.00\">grad 1.0000</text>\n</g>\n<!-- 5264422272*&#45;&gt;5264422272 -->\n<g id=\"edge3\" class=\"edge\">\n<title>5264422272*&#45;&gt;5264422272</title>\n<path fill=\"none\" stroke=\"black\" d=\"M921.28,-99.5C928.68,-99.5 937.22,-99.5 946.31,-99.5\"/>\n<polygon fill=\"black\" stroke=\"black\" points=\"946.21,-103 956.21,-99.5 946.21,-96 946.21,-103\"/>\n</g>\n<!-- 4588093888 -->\n<g id=\"node10\" class=\"node\">\n<title>4588093888</title>\n<polygon fill=\"none\" stroke=\"black\" points=\"4.5,-0.5 4.5,-36.5 189.5,-36.5 189.5,-0.5 4.5,-0.5\"/>\n<text text-anchor=\"middle\" x=\"16\" y=\"-14.8\" font-family=\"Times,serif\" font-size=\"14.00\">a</text>\n<polyline fill=\"none\" stroke=\"black\" points=\"27.5,-0.5 27.5,-36.5\"/>\n<text text-anchor=\"middle\" x=\"67.5\" y=\"-14.8\" font-family=\"Times,serif\" font-size=\"14.00\">data 2.0000</text>\n<polyline fill=\"none\" stroke=\"black\" points=\"107.5,-0.5 107.5,-36.5\"/>\n<text text-anchor=\"middle\" x=\"148.5\" y=\"-14.8\" font-family=\"Times,serif\" font-size=\"14.00\">grad 6.0000</text>\n</g>\n<!-- 4588093888&#45;&gt;5264421168* -->\n<g id=\"edge8\" class=\"edge\">\n<title>4588093888&#45;&gt;5264421168*</title>\n<path fill=\"none\" stroke=\"black\" d=\"M189.45,-34.13C200.13,-35.95 210.49,-37.72 219.73,-39.3\"/>\n<polygon fill=\"black\" stroke=\"black\" points=\"218.96,-42.89 229.4,-41.13 220.14,-35.99 218.96,-42.89\"/>\n</g>\n</g>\n</svg>\n",
      "text/plain": [
       "<graphviz.graphs.Digraph at 0x117bec7c0>"
      ]
     },
     "execution_count": 22,
     "metadata": {},
     "output_type": "execute_result"
    }
   ],
   "source": [
    "draw_dot(L)\n"
   ]
  },
  {
   "cell_type": "code",
   "execution_count": 21,
   "metadata": {},
   "outputs": [],
   "source": [
    "L.grad = 1.0  # derivate of itself\n",
    "f.grad = 4.0  # value of d, b.c. d(d * f)/df\n",
    "d.grad = -2.0  # value of f, b.c. d(d * f)/dd\n",
    "e.grad = -2.0\n",
    "c.grad = -2.0\n",
    "b.grad = -4.0\n",
    "a.grad = 6.0\n"
   ]
  },
  {
   "cell_type": "code",
   "execution_count": 98,
   "metadata": {},
   "outputs": [],
   "source": [
    "# inputs x1, x2\n",
    "x1 = Value(2.0, label='x1')\n",
    "x2 = Value(0.0, label='x2')\n",
    "\n",
    "w1 = Value(-3.0, label='w1')\n",
    "w2 = Value(1.0, label='w2')\n",
    "\n",
    "b = Value(6.88137335870195432, label='b')\n",
    "\n",
    "x1w1 = x1 * w1\n",
    "x1w1.label = 'x1*w1'\n",
    "\n",
    "x2w2 = x2 * w2\n",
    "x2w2.label = 'x2w2'\n",
    "\n",
    "x1w1x2w2 = x1w1 + x2w2\n",
    "x1w1x2w2.label = 'x1w1x2w2'\n",
    "\n",
    "n = x1w1x2w2 + b\n",
    "n.label = 'n'\n",
    "\n",
    "o = n.tanh()\n",
    "o.label = 'o'\n",
    "\n",
    "o.backward()\n"
   ]
  },
  {
   "cell_type": "code",
   "execution_count": 99,
   "metadata": {},
   "outputs": [
    {
     "data": {
      "image/svg+xml": "<?xml version=\"1.0\" encoding=\"UTF-8\" standalone=\"no\"?>\n<!DOCTYPE svg PUBLIC \"-//W3C//DTD SVG 1.1//EN\"\n \"http://www.w3.org/Graphics/SVG/1.1/DTD/svg11.dtd\">\n<!-- Generated by graphviz version 8.0.1 (20230327.1645)\n -->\n<!-- Pages: 1 -->\n<svg width=\"1546pt\" height=\"210pt\"\n viewBox=\"0.00 0.00 1546.00 210.00\" xmlns=\"http://www.w3.org/2000/svg\" xmlns:xlink=\"http://www.w3.org/1999/xlink\">\n<g id=\"graph0\" class=\"graph\" transform=\"scale(1 1) rotate(0) translate(4 206)\">\n<polygon fill=\"white\" stroke=\"none\" points=\"-4,4 -4,-206 1542,-206 1542,4 -4,4\"/>\n<!-- 5266869264 -->\n<g id=\"node1\" class=\"node\">\n<title>5266869264</title>\n<polygon fill=\"none\" stroke=\"black\" points=\"1353,-54.5 1353,-90.5 1538,-90.5 1538,-54.5 1353,-54.5\"/>\n<text text-anchor=\"middle\" x=\"1364.5\" y=\"-68.8\" font-family=\"Times,serif\" font-size=\"14.00\">o</text>\n<polyline fill=\"none\" stroke=\"black\" points=\"1376,-54.5 1376,-90.5\"/>\n<text text-anchor=\"middle\" x=\"1416\" y=\"-68.8\" font-family=\"Times,serif\" font-size=\"14.00\">data 0.7071</text>\n<polyline fill=\"none\" stroke=\"black\" points=\"1456,-54.5 1456,-90.5\"/>\n<text text-anchor=\"middle\" x=\"1497\" y=\"-68.8\" font-family=\"Times,serif\" font-size=\"14.00\">grad 1.0000</text>\n</g>\n<!-- 5266869264tanh -->\n<g id=\"node2\" class=\"node\">\n<title>5266869264tanh</title>\n<ellipse fill=\"none\" stroke=\"black\" cx=\"1290\" cy=\"-72.5\" rx=\"27\" ry=\"18\"/>\n<text text-anchor=\"middle\" x=\"1290\" y=\"-68.8\" font-family=\"Times,serif\" font-size=\"14.00\">tanh</text>\n</g>\n<!-- 5266869264tanh&#45;&gt;5266869264 -->\n<g id=\"edge1\" class=\"edge\">\n<title>5266869264tanh&#45;&gt;5266869264</title>\n<path fill=\"none\" stroke=\"black\" d=\"M1317.39,-72.5C1324.78,-72.5 1333.29,-72.5 1342.33,-72.5\"/>\n<polygon fill=\"black\" stroke=\"black\" points=\"1342.15,-76 1352.15,-72.5 1342.15,-69 1342.15,-76\"/>\n</g>\n<!-- 5266872864 -->\n<g id=\"node3\" class=\"node\">\n<title>5266872864</title>\n<polygon fill=\"none\" stroke=\"black\" points=\"1042,-54.5 1042,-90.5 1227,-90.5 1227,-54.5 1042,-54.5\"/>\n<text text-anchor=\"middle\" x=\"1053.5\" y=\"-68.8\" font-family=\"Times,serif\" font-size=\"14.00\">n</text>\n<polyline fill=\"none\" stroke=\"black\" points=\"1065,-54.5 1065,-90.5\"/>\n<text text-anchor=\"middle\" x=\"1105\" y=\"-68.8\" font-family=\"Times,serif\" font-size=\"14.00\">data 0.8814</text>\n<polyline fill=\"none\" stroke=\"black\" points=\"1145,-54.5 1145,-90.5\"/>\n<text text-anchor=\"middle\" x=\"1186\" y=\"-68.8\" font-family=\"Times,serif\" font-size=\"14.00\">grad 0.5000</text>\n</g>\n<!-- 5266872864&#45;&gt;5266869264tanh -->\n<g id=\"edge10\" class=\"edge\">\n<title>5266872864&#45;&gt;5266869264tanh</title>\n<path fill=\"none\" stroke=\"black\" d=\"M1226.57,-72.5C1235.41,-72.5 1244,-72.5 1251.83,-72.5\"/>\n<polygon fill=\"black\" stroke=\"black\" points=\"1251.7,-76 1261.7,-72.5 1251.7,-69 1251.7,-76\"/>\n</g>\n<!-- 5266872864+ -->\n<g id=\"node4\" class=\"node\">\n<title>5266872864+</title>\n<ellipse fill=\"none\" stroke=\"black\" cx=\"979\" cy=\"-72.5\" rx=\"27\" ry=\"18\"/>\n<text text-anchor=\"middle\" x=\"979\" y=\"-68.8\" font-family=\"Times,serif\" font-size=\"14.00\">+</text>\n</g>\n<!-- 5266872864+&#45;&gt;5266872864 -->\n<g id=\"edge2\" class=\"edge\">\n<title>5266872864+&#45;&gt;5266872864</title>\n<path fill=\"none\" stroke=\"black\" d=\"M1006.39,-72.5C1013.78,-72.5 1022.29,-72.5 1031.33,-72.5\"/>\n<polygon fill=\"black\" stroke=\"black\" points=\"1031.15,-76 1041.15,-72.5 1031.15,-69 1031.15,-76\"/>\n</g>\n<!-- 5266871856 -->\n<g id=\"node5\" class=\"node\">\n<title>5266871856</title>\n<polygon fill=\"none\" stroke=\"black\" points=\"672,-82.5 672,-118.5 916,-118.5 916,-82.5 672,-82.5\"/>\n<text text-anchor=\"middle\" x=\"710.5\" y=\"-96.8\" font-family=\"Times,serif\" font-size=\"14.00\">x1w1x2w2</text>\n<polyline fill=\"none\" stroke=\"black\" points=\"749,-82.5 749,-118.5\"/>\n<text text-anchor=\"middle\" x=\"791.5\" y=\"-96.8\" font-family=\"Times,serif\" font-size=\"14.00\">data &#45;6.0000</text>\n<polyline fill=\"none\" stroke=\"black\" points=\"834,-82.5 834,-118.5\"/>\n<text text-anchor=\"middle\" x=\"875\" y=\"-96.8\" font-family=\"Times,serif\" font-size=\"14.00\">grad 0.5000</text>\n</g>\n<!-- 5266871856&#45;&gt;5266872864+ -->\n<g id=\"edge8\" class=\"edge\">\n<title>5266871856&#45;&gt;5266872864+</title>\n<path fill=\"none\" stroke=\"black\" d=\"M912.45,-82.53C922.92,-80.93 932.9,-79.4 941.77,-78.04\"/>\n<polygon fill=\"black\" stroke=\"black\" points=\"942.01,-81.39 951.37,-76.42 940.96,-74.47 942.01,-81.39\"/>\n</g>\n<!-- 5266871856+ -->\n<g id=\"node6\" class=\"node\">\n<title>5266871856+</title>\n<ellipse fill=\"none\" stroke=\"black\" cx=\"609\" cy=\"-100.5\" rx=\"27\" ry=\"18\"/>\n<text text-anchor=\"middle\" x=\"609\" y=\"-96.8\" font-family=\"Times,serif\" font-size=\"14.00\">+</text>\n</g>\n<!-- 5266871856+&#45;&gt;5266871856 -->\n<g id=\"edge3\" class=\"edge\">\n<title>5266871856+&#45;&gt;5266871856</title>\n<path fill=\"none\" stroke=\"black\" d=\"M636.22,-100.5C643.62,-100.5 652.2,-100.5 661.46,-100.5\"/>\n<polygon fill=\"black\" stroke=\"black\" points=\"661.19,-104 671.19,-100.5 661.19,-97 661.19,-104\"/>\n</g>\n<!-- 5266867248 -->\n<g id=\"node7\" class=\"node\">\n<title>5266867248</title>\n<polygon fill=\"none\" stroke=\"black\" points=\"326,-110.5 326,-146.5 546,-146.5 546,-110.5 326,-110.5\"/>\n<text text-anchor=\"middle\" x=\"352.5\" y=\"-124.8\" font-family=\"Times,serif\" font-size=\"14.00\">x1*w1</text>\n<polyline fill=\"none\" stroke=\"black\" points=\"379,-110.5 379,-146.5\"/>\n<text text-anchor=\"middle\" x=\"421.5\" y=\"-124.8\" font-family=\"Times,serif\" font-size=\"14.00\">data &#45;6.0000</text>\n<polyline fill=\"none\" stroke=\"black\" points=\"464,-110.5 464,-146.5\"/>\n<text text-anchor=\"middle\" x=\"505\" y=\"-124.8\" font-family=\"Times,serif\" font-size=\"14.00\">grad 0.5000</text>\n</g>\n<!-- 5266867248&#45;&gt;5266871856+ -->\n<g id=\"edge6\" class=\"edge\">\n<title>5266867248&#45;&gt;5266871856+</title>\n<path fill=\"none\" stroke=\"black\" d=\"M545.78,-110.69C555,-109.18 563.84,-107.73 571.8,-106.43\"/>\n<polygon fill=\"black\" stroke=\"black\" points=\"572.13,-109.76 581.43,-104.69 571,-102.85 572.13,-109.76\"/>\n</g>\n<!-- 5266867248* -->\n<g id=\"node8\" class=\"node\">\n<title>5266867248*</title>\n<ellipse fill=\"none\" stroke=\"black\" cx=\"263\" cy=\"-128.5\" rx=\"27\" ry=\"18\"/>\n<text text-anchor=\"middle\" x=\"263\" y=\"-124.8\" font-family=\"Times,serif\" font-size=\"14.00\">*</text>\n</g>\n<!-- 5266867248*&#45;&gt;5266867248 -->\n<g id=\"edge4\" class=\"edge\">\n<title>5266867248*&#45;&gt;5266867248</title>\n<path fill=\"none\" stroke=\"black\" d=\"M290.34,-128.5C297.68,-128.5 306.16,-128.5 315.26,-128.5\"/>\n<polygon fill=\"black\" stroke=\"black\" points=\"315.2,-132 325.2,-128.5 315.2,-125 315.2,-132\"/>\n</g>\n<!-- 5266868640 -->\n<g id=\"node9\" class=\"node\">\n<title>5266868640</title>\n<polygon fill=\"none\" stroke=\"black\" points=\"2.5,-55.5 2.5,-91.5 197.5,-91.5 197.5,-55.5 2.5,-55.5\"/>\n<text text-anchor=\"middle\" x=\"19\" y=\"-69.8\" font-family=\"Times,serif\" font-size=\"14.00\">w2</text>\n<polyline fill=\"none\" stroke=\"black\" points=\"35.5,-55.5 35.5,-91.5\"/>\n<text text-anchor=\"middle\" x=\"75.5\" y=\"-69.8\" font-family=\"Times,serif\" font-size=\"14.00\">data 1.0000</text>\n<polyline fill=\"none\" stroke=\"black\" points=\"115.5,-55.5 115.5,-91.5\"/>\n<text text-anchor=\"middle\" x=\"156.5\" y=\"-69.8\" font-family=\"Times,serif\" font-size=\"14.00\">grad 0.0000</text>\n</g>\n<!-- 5266872960* -->\n<g id=\"node11\" class=\"node\">\n<title>5266872960*</title>\n<ellipse fill=\"none\" stroke=\"black\" cx=\"263\" cy=\"-73.5\" rx=\"27\" ry=\"18\"/>\n<text text-anchor=\"middle\" x=\"263\" y=\"-69.8\" font-family=\"Times,serif\" font-size=\"14.00\">*</text>\n</g>\n<!-- 5266868640&#45;&gt;5266872960* -->\n<g id=\"edge12\" class=\"edge\">\n<title>5266868640&#45;&gt;5266872960*</title>\n<path fill=\"none\" stroke=\"black\" d=\"M197.44,-73.5C207.11,-73.5 216.46,-73.5 224.9,-73.5\"/>\n<polygon fill=\"black\" stroke=\"black\" points=\"224.79,-77 234.79,-73.5 224.79,-70 224.79,-77\"/>\n</g>\n<!-- 5266872960 -->\n<g id=\"node10\" class=\"node\">\n<title>5266872960</title>\n<polygon fill=\"none\" stroke=\"black\" points=\"331.5,-55.5 331.5,-91.5 540.5,-91.5 540.5,-55.5 331.5,-55.5\"/>\n<text text-anchor=\"middle\" x=\"355\" y=\"-69.8\" font-family=\"Times,serif\" font-size=\"14.00\">x2w2</text>\n<polyline fill=\"none\" stroke=\"black\" points=\"378.5,-55.5 378.5,-91.5\"/>\n<text text-anchor=\"middle\" x=\"418.5\" y=\"-69.8\" font-family=\"Times,serif\" font-size=\"14.00\">data 0.0000</text>\n<polyline fill=\"none\" stroke=\"black\" points=\"458.5,-55.5 458.5,-91.5\"/>\n<text text-anchor=\"middle\" x=\"499.5\" y=\"-69.8\" font-family=\"Times,serif\" font-size=\"14.00\">grad 0.5000</text>\n</g>\n<!-- 5266872960&#45;&gt;5266871856+ -->\n<g id=\"edge14\" class=\"edge\">\n<title>5266872960&#45;&gt;5266871856+</title>\n<path fill=\"none\" stroke=\"black\" d=\"M540.42,-89.83C551.42,-91.57 562,-93.24 571.4,-94.72\"/>\n<polygon fill=\"black\" stroke=\"black\" points=\"570.8,-98.33 581.23,-96.43 571.89,-91.41 570.8,-98.33\"/>\n</g>\n<!-- 5266872960*&#45;&gt;5266872960 -->\n<g id=\"edge5\" class=\"edge\">\n<title>5266872960*&#45;&gt;5266872960</title>\n<path fill=\"none\" stroke=\"black\" d=\"M290.34,-73.5C299.15,-73.5 309.59,-73.5 320.78,-73.5\"/>\n<polygon fill=\"black\" stroke=\"black\" points=\"320.7,-77 330.7,-73.5 320.7,-70 320.7,-77\"/>\n</g>\n<!-- 5266873488 -->\n<g id=\"node12\" class=\"node\">\n<title>5266873488</title>\n<polygon fill=\"none\" stroke=\"black\" points=\"0,-165.5 0,-201.5 200,-201.5 200,-165.5 0,-165.5\"/>\n<text text-anchor=\"middle\" x=\"16.5\" y=\"-179.8\" font-family=\"Times,serif\" font-size=\"14.00\">w1</text>\n<polyline fill=\"none\" stroke=\"black\" points=\"33,-165.5 33,-201.5\"/>\n<text text-anchor=\"middle\" x=\"75.5\" y=\"-179.8\" font-family=\"Times,serif\" font-size=\"14.00\">data &#45;3.0000</text>\n<polyline fill=\"none\" stroke=\"black\" points=\"118,-165.5 118,-201.5\"/>\n<text text-anchor=\"middle\" x=\"159\" y=\"-179.8\" font-family=\"Times,serif\" font-size=\"14.00\">grad 1.0000</text>\n</g>\n<!-- 5266873488&#45;&gt;5266867248* -->\n<g id=\"edge11\" class=\"edge\">\n<title>5266873488&#45;&gt;5266867248*</title>\n<path fill=\"none\" stroke=\"black\" d=\"M172.27,-165.52C181.67,-162.72 191.12,-159.7 200,-156.5 210.31,-152.79 221.29,-148.09 231.1,-143.61\"/>\n<polygon fill=\"black\" stroke=\"black\" points=\"232.25,-146.47 239.82,-139.07 229.28,-140.13 232.25,-146.47\"/>\n</g>\n<!-- 5266873152 -->\n<g id=\"node13\" class=\"node\">\n<title>5266873152</title>\n<polygon fill=\"none\" stroke=\"black\" points=\"4,-0.5 4,-36.5 196,-36.5 196,-0.5 4,-0.5\"/>\n<text text-anchor=\"middle\" x=\"19\" y=\"-14.8\" font-family=\"Times,serif\" font-size=\"14.00\">x2</text>\n<polyline fill=\"none\" stroke=\"black\" points=\"34,-0.5 34,-36.5\"/>\n<text text-anchor=\"middle\" x=\"74\" y=\"-14.8\" font-family=\"Times,serif\" font-size=\"14.00\">data 0.0000</text>\n<polyline fill=\"none\" stroke=\"black\" points=\"114,-0.5 114,-36.5\"/>\n<text text-anchor=\"middle\" x=\"155\" y=\"-14.8\" font-family=\"Times,serif\" font-size=\"14.00\">grad 0.5000</text>\n</g>\n<!-- 5266873152&#45;&gt;5266872960* -->\n<g id=\"edge9\" class=\"edge\">\n<title>5266873152&#45;&gt;5266872960*</title>\n<path fill=\"none\" stroke=\"black\" d=\"M172.27,-36.48C181.67,-39.28 191.12,-42.3 200,-45.5 210.31,-49.21 221.29,-53.91 231.1,-58.39\"/>\n<polygon fill=\"black\" stroke=\"black\" points=\"229.28,-61.87 239.82,-62.93 232.25,-55.53 229.28,-61.87\"/>\n</g>\n<!-- 5266873248 -->\n<g id=\"node14\" class=\"node\">\n<title>5266873248</title>\n<polygon fill=\"none\" stroke=\"black\" points=\"701.5,-27.5 701.5,-63.5 886.5,-63.5 886.5,-27.5 701.5,-27.5\"/>\n<text text-anchor=\"middle\" x=\"713\" y=\"-41.8\" font-family=\"Times,serif\" font-size=\"14.00\">b</text>\n<polyline fill=\"none\" stroke=\"black\" points=\"724.5,-27.5 724.5,-63.5\"/>\n<text text-anchor=\"middle\" x=\"764.5\" y=\"-41.8\" font-family=\"Times,serif\" font-size=\"14.00\">data 6.8814</text>\n<polyline fill=\"none\" stroke=\"black\" points=\"804.5,-27.5 804.5,-63.5\"/>\n<text text-anchor=\"middle\" x=\"845.5\" y=\"-41.8\" font-family=\"Times,serif\" font-size=\"14.00\">grad 0.5000</text>\n</g>\n<!-- 5266873248&#45;&gt;5266872864+ -->\n<g id=\"edge13\" class=\"edge\">\n<title>5266873248&#45;&gt;5266872864+</title>\n<path fill=\"none\" stroke=\"black\" d=\"M886.5,-59C906.1,-61.89 925.7,-64.78 941.71,-67.15\"/>\n<polygon fill=\"black\" stroke=\"black\" points=\"940.76,-70.69 951.17,-68.69 941.79,-63.77 940.76,-70.69\"/>\n</g>\n<!-- 5266873296 -->\n<g id=\"node15\" class=\"node\">\n<title>5266873296</title>\n<polygon fill=\"none\" stroke=\"black\" points=\"2,-110.5 2,-146.5 198,-146.5 198,-110.5 2,-110.5\"/>\n<text text-anchor=\"middle\" x=\"17\" y=\"-124.8\" font-family=\"Times,serif\" font-size=\"14.00\">x1</text>\n<polyline fill=\"none\" stroke=\"black\" points=\"32,-110.5 32,-146.5\"/>\n<text text-anchor=\"middle\" x=\"72\" y=\"-124.8\" font-family=\"Times,serif\" font-size=\"14.00\">data 2.0000</text>\n<polyline fill=\"none\" stroke=\"black\" points=\"112,-110.5 112,-146.5\"/>\n<text text-anchor=\"middle\" x=\"155\" y=\"-124.8\" font-family=\"Times,serif\" font-size=\"14.00\">grad &#45;1.5000</text>\n</g>\n<!-- 5266873296&#45;&gt;5266867248* -->\n<g id=\"edge7\" class=\"edge\">\n<title>5266873296&#45;&gt;5266867248*</title>\n<path fill=\"none\" stroke=\"black\" d=\"M197.91,-128.5C207.43,-128.5 216.63,-128.5 224.95,-128.5\"/>\n<polygon fill=\"black\" stroke=\"black\" points=\"224.7,-132 234.7,-128.5 224.7,-125 224.7,-132\"/>\n</g>\n</g>\n</svg>\n",
      "text/plain": [
       "<graphviz.graphs.Digraph at 0x139ee0b50>"
      ]
     },
     "execution_count": 99,
     "metadata": {},
     "output_type": "execute_result"
    }
   ],
   "source": [
    "draw_dot(o)"
   ]
  },
  {
   "cell_type": "code",
   "execution_count": 102,
   "metadata": {},
   "outputs": [
    {
     "data": {
      "image/svg+xml": "<?xml version=\"1.0\" encoding=\"UTF-8\" standalone=\"no\"?>\n<!DOCTYPE svg PUBLIC \"-//W3C//DTD SVG 1.1//EN\"\n \"http://www.w3.org/Graphics/SVG/1.1/DTD/svg11.dtd\">\n<!-- Generated by graphviz version 8.0.1 (20230327.1645)\n -->\n<!-- Pages: 1 -->\n<svg width=\"2915pt\" height=\"236pt\"\n viewBox=\"0.00 0.00 2915.00 236.00\" xmlns=\"http://www.w3.org/2000/svg\" xmlns:xlink=\"http://www.w3.org/1999/xlink\">\n<g id=\"graph0\" class=\"graph\" transform=\"scale(1 1) rotate(0) translate(4 232)\">\n<polygon fill=\"white\" stroke=\"none\" points=\"-4,4 -4,-232 2911,-232 2911,4 -4,4\"/>\n<!-- 5270358528 -->\n<g id=\"node1\" class=\"node\">\n<title>5270358528</title>\n<polygon fill=\"none\" stroke=\"black\" points=\"2722,-135.5 2722,-171.5 2907,-171.5 2907,-135.5 2722,-135.5\"/>\n<text text-anchor=\"middle\" x=\"2733.5\" y=\"-149.8\" font-family=\"Times,serif\" font-size=\"14.00\">o</text>\n<polyline fill=\"none\" stroke=\"black\" points=\"2745,-135.5 2745,-171.5\"/>\n<text text-anchor=\"middle\" x=\"2785\" y=\"-149.8\" font-family=\"Times,serif\" font-size=\"14.00\">data 0.7071</text>\n<polyline fill=\"none\" stroke=\"black\" points=\"2825,-135.5 2825,-171.5\"/>\n<text text-anchor=\"middle\" x=\"2866\" y=\"-149.8\" font-family=\"Times,serif\" font-size=\"14.00\">grad 1.0000</text>\n</g>\n<!-- 5270358528* -->\n<g id=\"node2\" class=\"node\">\n<title>5270358528*</title>\n<ellipse fill=\"none\" stroke=\"black\" cx=\"2659\" cy=\"-153.5\" rx=\"27\" ry=\"18\"/>\n<text text-anchor=\"middle\" x=\"2659\" y=\"-149.8\" font-family=\"Times,serif\" font-size=\"14.00\">*</text>\n</g>\n<!-- 5270358528*&#45;&gt;5270358528 -->\n<g id=\"edge1\" class=\"edge\">\n<title>5270358528*&#45;&gt;5270358528</title>\n<path fill=\"none\" stroke=\"black\" d=\"M2686.39,-153.5C2693.78,-153.5 2702.29,-153.5 2711.33,-153.5\"/>\n<polygon fill=\"black\" stroke=\"black\" points=\"2711.15,-157 2721.15,-153.5 2711.15,-150 2711.15,-157\"/>\n</g>\n<!-- 5270356512 -->\n<g id=\"node3\" class=\"node\">\n<title>5270356512</title>\n<polygon fill=\"none\" stroke=\"black\" points=\"2,-55.5 2,-91.5 198,-91.5 198,-55.5 2,-55.5\"/>\n<text text-anchor=\"middle\" x=\"17\" y=\"-69.8\" font-family=\"Times,serif\" font-size=\"14.00\">x1</text>\n<polyline fill=\"none\" stroke=\"black\" points=\"32,-55.5 32,-91.5\"/>\n<text text-anchor=\"middle\" x=\"72\" y=\"-69.8\" font-family=\"Times,serif\" font-size=\"14.00\">data 2.0000</text>\n<polyline fill=\"none\" stroke=\"black\" points=\"112,-55.5 112,-91.5\"/>\n<text text-anchor=\"middle\" x=\"155\" y=\"-69.8\" font-family=\"Times,serif\" font-size=\"14.00\">grad &#45;1.5000</text>\n</g>\n<!-- 5270366352* -->\n<g id=\"node12\" class=\"node\">\n<title>5270366352*</title>\n<ellipse fill=\"none\" stroke=\"black\" cx=\"263\" cy=\"-73.5\" rx=\"27\" ry=\"18\"/>\n<text text-anchor=\"middle\" x=\"263\" y=\"-69.8\" font-family=\"Times,serif\" font-size=\"14.00\">*</text>\n</g>\n<!-- 5270356512&#45;&gt;5270366352* -->\n<g id=\"edge12\" class=\"edge\">\n<title>5270356512&#45;&gt;5270366352*</title>\n<path fill=\"none\" stroke=\"black\" d=\"M197.91,-73.5C207.43,-73.5 216.63,-73.5 224.95,-73.5\"/>\n<polygon fill=\"black\" stroke=\"black\" points=\"224.7,-77 234.7,-73.5 224.7,-70 224.7,-77\"/>\n</g>\n<!-- 5270358576 -->\n<g id=\"node4\" class=\"node\">\n<title>5270358576</title>\n<polygon fill=\"none\" stroke=\"black\" points=\"2414,-112.5 2414,-148.5 2596,-148.5 2596,-112.5 2414,-112.5\"/>\n<text text-anchor=\"middle\" x=\"2424\" y=\"-126.8\" font-family=\"Times,serif\" font-size=\"14.00\"> </text>\n<polyline fill=\"none\" stroke=\"black\" points=\"2434,-112.5 2434,-148.5\"/>\n<text text-anchor=\"middle\" x=\"2474\" y=\"-126.8\" font-family=\"Times,serif\" font-size=\"14.00\">data 0.1464</text>\n<polyline fill=\"none\" stroke=\"black\" points=\"2514,-112.5 2514,-148.5\"/>\n<text text-anchor=\"middle\" x=\"2555\" y=\"-126.8\" font-family=\"Times,serif\" font-size=\"14.00\">grad 4.8284</text>\n</g>\n<!-- 5270358576&#45;&gt;5270358528* -->\n<g id=\"edge21\" class=\"edge\">\n<title>5270358576&#45;&gt;5270358528*</title>\n<path fill=\"none\" stroke=\"black\" d=\"M2595.74,-144.08C2604.82,-145.45 2613.64,-146.79 2621.64,-148\"/>\n<polygon fill=\"black\" stroke=\"black\" points=\"2620.94,-151.58 2631.35,-149.62 2621.99,-144.66 2620.94,-151.58\"/>\n</g>\n<!-- 5270358576**&#45;1 -->\n<g id=\"node5\" class=\"node\">\n<title>5270358576**&#45;1</title>\n<ellipse fill=\"none\" stroke=\"black\" cx=\"2287\" cy=\"-126.5\" rx=\"27\" ry=\"18\"/>\n<text text-anchor=\"middle\" x=\"2287\" y=\"-122.8\" font-family=\"Times,serif\" font-size=\"14.00\">**&#45;1</text>\n</g>\n<!-- 5270358576**&#45;1&#45;&gt;5270358576 -->\n<g id=\"edge2\" class=\"edge\">\n<title>5270358576**&#45;1&#45;&gt;5270358576</title>\n<path fill=\"none\" stroke=\"black\" d=\"M2314.49,-126.99C2336.95,-127.41 2370.67,-128.03 2403.46,-128.64\"/>\n<polygon fill=\"black\" stroke=\"black\" points=\"2403,-132.15 2413.06,-128.83 2403.12,-125.15 2403,-132.15\"/>\n</g>\n<!-- 5270371392 -->\n<g id=\"node6\" class=\"node\">\n<title>5270371392</title>\n<polygon fill=\"none\" stroke=\"black\" points=\"2196,-163.5 2196,-199.5 2378,-199.5 2378,-163.5 2196,-163.5\"/>\n<text text-anchor=\"middle\" x=\"2206\" y=\"-177.8\" font-family=\"Times,serif\" font-size=\"14.00\"> </text>\n<polyline fill=\"none\" stroke=\"black\" points=\"2216,-163.5 2216,-199.5\"/>\n<text text-anchor=\"middle\" x=\"2256\" y=\"-177.8\" font-family=\"Times,serif\" font-size=\"14.00\">data 4.8284</text>\n<polyline fill=\"none\" stroke=\"black\" points=\"2296,-163.5 2296,-199.5\"/>\n<text text-anchor=\"middle\" x=\"2337\" y=\"-177.8\" font-family=\"Times,serif\" font-size=\"14.00\">grad 0.1464</text>\n</g>\n<!-- 5270371392&#45;&gt;5270358528* -->\n<g id=\"edge24\" class=\"edge\">\n<title>5270371392&#45;&gt;5270358528*</title>\n<path fill=\"none\" stroke=\"black\" d=\"M2377.97,-174.92C2439.4,-170.4 2522.63,-164.2 2596,-158.5 2604.07,-157.87 2612.73,-157.19 2620.94,-156.53\"/>\n<polygon fill=\"black\" stroke=\"black\" points=\"2621.07,-159.94 2630.76,-155.65 2620.51,-152.97 2621.07,-159.94\"/>\n</g>\n<!-- 5270371392+ -->\n<g id=\"node7\" class=\"node\">\n<title>5270371392+</title>\n<ellipse fill=\"none\" stroke=\"black\" cx=\"1911\" cy=\"-181.5\" rx=\"27\" ry=\"18\"/>\n<text text-anchor=\"middle\" x=\"1911\" y=\"-177.8\" font-family=\"Times,serif\" font-size=\"14.00\">+</text>\n</g>\n<!-- 5270371392+&#45;&gt;5270371392 -->\n<g id=\"edge3\" class=\"edge\">\n<title>5270371392+&#45;&gt;5270371392</title>\n<path fill=\"none\" stroke=\"black\" d=\"M1938.3,-181.5C1988.79,-181.5 2101.71,-181.5 2185.24,-181.5\"/>\n<polygon fill=\"black\" stroke=\"black\" points=\"2185.05,-185 2195.05,-181.5 2185.05,-178 2185.05,-185\"/>\n</g>\n<!-- 5270367312 -->\n<g id=\"node8\" class=\"node\">\n<title>5270367312</title>\n<polygon fill=\"none\" stroke=\"black\" points=\"331.5,-110.5 331.5,-146.5 540.5,-146.5 540.5,-110.5 331.5,-110.5\"/>\n<text text-anchor=\"middle\" x=\"355\" y=\"-124.8\" font-family=\"Times,serif\" font-size=\"14.00\">x2w2</text>\n<polyline fill=\"none\" stroke=\"black\" points=\"378.5,-110.5 378.5,-146.5\"/>\n<text text-anchor=\"middle\" x=\"418.5\" y=\"-124.8\" font-family=\"Times,serif\" font-size=\"14.00\">data 0.0000</text>\n<polyline fill=\"none\" stroke=\"black\" points=\"458.5,-110.5 458.5,-146.5\"/>\n<text text-anchor=\"middle\" x=\"499.5\" y=\"-124.8\" font-family=\"Times,serif\" font-size=\"14.00\">grad 0.5000</text>\n</g>\n<!-- 5270367072+ -->\n<g id=\"node25\" class=\"node\">\n<title>5270367072+</title>\n<ellipse fill=\"none\" stroke=\"black\" cx=\"609\" cy=\"-100.5\" rx=\"27\" ry=\"18\"/>\n<text text-anchor=\"middle\" x=\"609\" y=\"-96.8\" font-family=\"Times,serif\" font-size=\"14.00\">+</text>\n</g>\n<!-- 5270367312&#45;&gt;5270367072+ -->\n<g id=\"edge14\" class=\"edge\">\n<title>5270367312&#45;&gt;5270367072+</title>\n<path fill=\"none\" stroke=\"black\" d=\"M540.42,-111.57C551.42,-109.77 562,-108.03 571.4,-106.49\"/>\n<polygon fill=\"black\" stroke=\"black\" points=\"571.92,-109.79 581.23,-104.72 570.79,-102.88 571.92,-109.79\"/>\n</g>\n<!-- 5270367312* -->\n<g id=\"node9\" class=\"node\">\n<title>5270367312*</title>\n<ellipse fill=\"none\" stroke=\"black\" cx=\"263\" cy=\"-128.5\" rx=\"27\" ry=\"18\"/>\n<text text-anchor=\"middle\" x=\"263\" y=\"-124.8\" font-family=\"Times,serif\" font-size=\"14.00\">*</text>\n</g>\n<!-- 5270367312*&#45;&gt;5270367312 -->\n<g id=\"edge4\" class=\"edge\">\n<title>5270367312*&#45;&gt;5270367312</title>\n<path fill=\"none\" stroke=\"black\" d=\"M290.34,-128.5C299.15,-128.5 309.59,-128.5 320.78,-128.5\"/>\n<polygon fill=\"black\" stroke=\"black\" points=\"320.7,-132 330.7,-128.5 320.7,-125 320.7,-132\"/>\n</g>\n<!-- 5270356080 -->\n<g id=\"node10\" class=\"node\">\n<title>5270356080</title>\n<polygon fill=\"none\" stroke=\"black\" points=\"701.5,-137.5 701.5,-173.5 886.5,-173.5 886.5,-137.5 701.5,-137.5\"/>\n<text text-anchor=\"middle\" x=\"713\" y=\"-151.8\" font-family=\"Times,serif\" font-size=\"14.00\">b</text>\n<polyline fill=\"none\" stroke=\"black\" points=\"724.5,-137.5 724.5,-173.5\"/>\n<text text-anchor=\"middle\" x=\"764.5\" y=\"-151.8\" font-family=\"Times,serif\" font-size=\"14.00\">data 6.8814</text>\n<polyline fill=\"none\" stroke=\"black\" points=\"804.5,-137.5 804.5,-173.5\"/>\n<text text-anchor=\"middle\" x=\"845.5\" y=\"-151.8\" font-family=\"Times,serif\" font-size=\"14.00\">grad 0.5000</text>\n</g>\n<!-- 5270371104+ -->\n<g id=\"node19\" class=\"node\">\n<title>5270371104+</title>\n<ellipse fill=\"none\" stroke=\"black\" cx=\"979\" cy=\"-127.5\" rx=\"27\" ry=\"18\"/>\n<text text-anchor=\"middle\" x=\"979\" y=\"-123.8\" font-family=\"Times,serif\" font-size=\"14.00\">+</text>\n</g>\n<!-- 5270356080&#45;&gt;5270371104+ -->\n<g id=\"edge15\" class=\"edge\">\n<title>5270356080&#45;&gt;5270371104+</title>\n<path fill=\"none\" stroke=\"black\" d=\"M886.5,-141.5C906.1,-138.5 925.7,-135.5 941.71,-133.05\"/>\n<polygon fill=\"black\" stroke=\"black\" points=\"941.81,-136.42 951.17,-131.45 940.75,-129.51 941.81,-136.42\"/>\n</g>\n<!-- 5270366352 -->\n<g id=\"node11\" class=\"node\">\n<title>5270366352</title>\n<polygon fill=\"none\" stroke=\"black\" points=\"326,-55.5 326,-91.5 546,-91.5 546,-55.5 326,-55.5\"/>\n<text text-anchor=\"middle\" x=\"352.5\" y=\"-69.8\" font-family=\"Times,serif\" font-size=\"14.00\">x1*w1</text>\n<polyline fill=\"none\" stroke=\"black\" points=\"379,-55.5 379,-91.5\"/>\n<text text-anchor=\"middle\" x=\"421.5\" y=\"-69.8\" font-family=\"Times,serif\" font-size=\"14.00\">data &#45;6.0000</text>\n<polyline fill=\"none\" stroke=\"black\" points=\"464,-55.5 464,-91.5\"/>\n<text text-anchor=\"middle\" x=\"505\" y=\"-69.8\" font-family=\"Times,serif\" font-size=\"14.00\">grad 0.5000</text>\n</g>\n<!-- 5270366352&#45;&gt;5270367072+ -->\n<g id=\"edge19\" class=\"edge\">\n<title>5270366352&#45;&gt;5270367072+</title>\n<path fill=\"none\" stroke=\"black\" d=\"M545.78,-90.68C555,-92.13 563.84,-93.53 571.8,-94.78\"/>\n<polygon fill=\"black\" stroke=\"black\" points=\"571.01,-98.36 581.43,-96.46 572.1,-91.45 571.01,-98.36\"/>\n</g>\n<!-- 5270366352*&#45;&gt;5270366352 -->\n<g id=\"edge5\" class=\"edge\">\n<title>5270366352*&#45;&gt;5270366352</title>\n<path fill=\"none\" stroke=\"black\" d=\"M290.34,-73.5C297.68,-73.5 306.16,-73.5 315.26,-73.5\"/>\n<polygon fill=\"black\" stroke=\"black\" points=\"315.2,-77 325.2,-73.5 315.2,-70 315.2,-77\"/>\n</g>\n<!-- 5270371488 -->\n<g id=\"node13\" class=\"node\">\n<title>5270371488</title>\n<polygon fill=\"none\" stroke=\"black\" points=\"1663.5,-136.5 1663.5,-172.5 1845.5,-172.5 1845.5,-136.5 1663.5,-136.5\"/>\n<text text-anchor=\"middle\" x=\"1673.5\" y=\"-150.8\" font-family=\"Times,serif\" font-size=\"14.00\"> </text>\n<polyline fill=\"none\" stroke=\"black\" points=\"1683.5,-136.5 1683.5,-172.5\"/>\n<text text-anchor=\"middle\" x=\"1723.5\" y=\"-150.8\" font-family=\"Times,serif\" font-size=\"14.00\">data 5.8284</text>\n<polyline fill=\"none\" stroke=\"black\" points=\"1763.5,-136.5 1763.5,-172.5\"/>\n<text text-anchor=\"middle\" x=\"1804.5\" y=\"-150.8\" font-family=\"Times,serif\" font-size=\"14.00\">grad 0.0429</text>\n</g>\n<!-- 5270371488&#45;&gt;5270371392+ -->\n<g id=\"edge25\" class=\"edge\">\n<title>5270371488&#45;&gt;5270371392+</title>\n<path fill=\"none\" stroke=\"black\" d=\"M1845.37,-170.21C1855.34,-171.95 1865.03,-173.64 1873.73,-175.16\"/>\n<polygon fill=\"black\" stroke=\"black\" points=\"1873.1,-178.78 1883.55,-177.05 1874.3,-171.88 1873.1,-178.78\"/>\n</g>\n<!-- 5270359392+ -->\n<g id=\"node21\" class=\"node\">\n<title>5270359392+</title>\n<ellipse fill=\"none\" stroke=\"black\" cx=\"1911\" cy=\"-126.5\" rx=\"27\" ry=\"18\"/>\n<text text-anchor=\"middle\" x=\"1911\" y=\"-122.8\" font-family=\"Times,serif\" font-size=\"14.00\">+</text>\n</g>\n<!-- 5270371488&#45;&gt;5270359392+ -->\n<g id=\"edge27\" class=\"edge\">\n<title>5270371488&#45;&gt;5270359392+</title>\n<path fill=\"none\" stroke=\"black\" d=\"M1845.37,-138.21C1855.34,-136.41 1865.03,-134.65 1873.73,-133.07\"/>\n<polygon fill=\"black\" stroke=\"black\" points=\"1874.34,-136.34 1883.55,-131.11 1873.09,-129.45 1874.34,-136.34\"/>\n</g>\n<!-- 5270371488exp -->\n<g id=\"node14\" class=\"node\">\n<title>5270371488exp</title>\n<ellipse fill=\"none\" stroke=\"black\" cx=\"1598\" cy=\"-154.5\" rx=\"27\" ry=\"18\"/>\n<text text-anchor=\"middle\" x=\"1598\" y=\"-150.8\" font-family=\"Times,serif\" font-size=\"14.00\">exp</text>\n</g>\n<!-- 5270371488exp&#45;&gt;5270371488 -->\n<g id=\"edge6\" class=\"edge\">\n<title>5270371488exp&#45;&gt;5270371488</title>\n<path fill=\"none\" stroke=\"black\" d=\"M1625.21,-154.5C1633.24,-154.5 1642.6,-154.5 1652.54,-154.5\"/>\n<polygon fill=\"black\" stroke=\"black\" points=\"1652.52,-158 1662.52,-154.5 1652.52,-151 1652.52,-158\"/>\n</g>\n<!-- 5270371776 -->\n<g id=\"node15\" class=\"node\">\n<title>5270371776</title>\n<polygon fill=\"none\" stroke=\"black\" points=\"1043.5,-164.5 1043.5,-200.5 1225.5,-200.5 1225.5,-164.5 1043.5,-164.5\"/>\n<text text-anchor=\"middle\" x=\"1053.5\" y=\"-178.8\" font-family=\"Times,serif\" font-size=\"14.00\"> </text>\n<polyline fill=\"none\" stroke=\"black\" points=\"1063.5,-164.5 1063.5,-200.5\"/>\n<text text-anchor=\"middle\" x=\"1103.5\" y=\"-178.8\" font-family=\"Times,serif\" font-size=\"14.00\">data 2.0000</text>\n<polyline fill=\"none\" stroke=\"black\" points=\"1143.5,-164.5 1143.5,-200.5\"/>\n<text text-anchor=\"middle\" x=\"1184.5\" y=\"-178.8\" font-family=\"Times,serif\" font-size=\"14.00\">grad 0.2203</text>\n</g>\n<!-- 5270370672* -->\n<g id=\"node23\" class=\"node\">\n<title>5270370672*</title>\n<ellipse fill=\"none\" stroke=\"black\" cx=\"1290\" cy=\"-154.5\" rx=\"27\" ry=\"18\"/>\n<text text-anchor=\"middle\" x=\"1290\" y=\"-150.8\" font-family=\"Times,serif\" font-size=\"14.00\">*</text>\n</g>\n<!-- 5270371776&#45;&gt;5270370672* -->\n<g id=\"edge13\" class=\"edge\">\n<title>5270371776&#45;&gt;5270370672*</title>\n<path fill=\"none\" stroke=\"black\" d=\"M1225.24,-166.13C1235,-164.35 1244.47,-162.62 1253,-161.07\"/>\n<polygon fill=\"black\" stroke=\"black\" points=\"1253.4,-164.37 1262.61,-159.13 1252.15,-157.48 1253.4,-164.37\"/>\n</g>\n<!-- 5270368464 -->\n<g id=\"node16\" class=\"node\">\n<title>5270368464</title>\n<polygon fill=\"none\" stroke=\"black\" points=\"4,-165.5 4,-201.5 196,-201.5 196,-165.5 4,-165.5\"/>\n<text text-anchor=\"middle\" x=\"19\" y=\"-179.8\" font-family=\"Times,serif\" font-size=\"14.00\">x2</text>\n<polyline fill=\"none\" stroke=\"black\" points=\"34,-165.5 34,-201.5\"/>\n<text text-anchor=\"middle\" x=\"74\" y=\"-179.8\" font-family=\"Times,serif\" font-size=\"14.00\">data 0.0000</text>\n<polyline fill=\"none\" stroke=\"black\" points=\"114,-165.5 114,-201.5\"/>\n<text text-anchor=\"middle\" x=\"155\" y=\"-179.8\" font-family=\"Times,serif\" font-size=\"14.00\">grad 0.5000</text>\n</g>\n<!-- 5270368464&#45;&gt;5270367312* -->\n<g id=\"edge23\" class=\"edge\">\n<title>5270368464&#45;&gt;5270367312*</title>\n<path fill=\"none\" stroke=\"black\" d=\"M172.27,-165.52C181.67,-162.72 191.12,-159.7 200,-156.5 210.31,-152.79 221.29,-148.09 231.1,-143.61\"/>\n<polygon fill=\"black\" stroke=\"black\" points=\"232.25,-146.47 239.82,-139.07 229.28,-140.13 232.25,-146.47\"/>\n</g>\n<!-- 5270371584 -->\n<g id=\"node17\" class=\"node\">\n<title>5270371584</title>\n<polygon fill=\"none\" stroke=\"black\" points=\"1661,-191.5 1661,-227.5 1848,-227.5 1848,-191.5 1661,-191.5\"/>\n<text text-anchor=\"middle\" x=\"1671\" y=\"-205.8\" font-family=\"Times,serif\" font-size=\"14.00\"> </text>\n<polyline fill=\"none\" stroke=\"black\" points=\"1681,-191.5 1681,-227.5\"/>\n<text text-anchor=\"middle\" x=\"1723.5\" y=\"-205.8\" font-family=\"Times,serif\" font-size=\"14.00\">data &#45;1.0000</text>\n<polyline fill=\"none\" stroke=\"black\" points=\"1766,-191.5 1766,-227.5\"/>\n<text text-anchor=\"middle\" x=\"1807\" y=\"-205.8\" font-family=\"Times,serif\" font-size=\"14.00\">grad 0.1464</text>\n</g>\n<!-- 5270371584&#45;&gt;5270371392+ -->\n<g id=\"edge11\" class=\"edge\">\n<title>5270371584&#45;&gt;5270371392+</title>\n<path fill=\"none\" stroke=\"black\" d=\"M1847.6,-192.81C1856.83,-191.14 1865.76,-189.52 1873.84,-188.05\"/>\n<polygon fill=\"black\" stroke=\"black\" points=\"1874.43,-191.32 1883.65,-186.09 1873.18,-184.43 1874.43,-191.32\"/>\n</g>\n<!-- 5270371104 -->\n<g id=\"node18\" class=\"node\">\n<title>5270371104</title>\n<polygon fill=\"none\" stroke=\"black\" points=\"1042,-109.5 1042,-145.5 1227,-145.5 1227,-109.5 1042,-109.5\"/>\n<text text-anchor=\"middle\" x=\"1053.5\" y=\"-123.8\" font-family=\"Times,serif\" font-size=\"14.00\">n</text>\n<polyline fill=\"none\" stroke=\"black\" points=\"1065,-109.5 1065,-145.5\"/>\n<text text-anchor=\"middle\" x=\"1105\" y=\"-123.8\" font-family=\"Times,serif\" font-size=\"14.00\">data 0.8814</text>\n<polyline fill=\"none\" stroke=\"black\" points=\"1145,-109.5 1145,-145.5\"/>\n<text text-anchor=\"middle\" x=\"1186\" y=\"-123.8\" font-family=\"Times,serif\" font-size=\"14.00\">grad 0.5000</text>\n</g>\n<!-- 5270371104&#45;&gt;5270370672* -->\n<g id=\"edge16\" class=\"edge\">\n<title>5270371104&#45;&gt;5270370672*</title>\n<path fill=\"none\" stroke=\"black\" d=\"M1226.57,-143.52C1235.78,-145.14 1244.71,-146.71 1252.8,-148.13\"/>\n<polygon fill=\"black\" stroke=\"black\" points=\"1252.15,-151.75 1262.61,-150.03 1253.37,-144.85 1252.15,-151.75\"/>\n</g>\n<!-- 5270371104+&#45;&gt;5270371104 -->\n<g id=\"edge7\" class=\"edge\">\n<title>5270371104+&#45;&gt;5270371104</title>\n<path fill=\"none\" stroke=\"black\" d=\"M1006.39,-127.5C1013.78,-127.5 1022.29,-127.5 1031.33,-127.5\"/>\n<polygon fill=\"black\" stroke=\"black\" points=\"1031.15,-131 1041.15,-127.5 1031.15,-124 1031.15,-131\"/>\n</g>\n<!-- 5270359392 -->\n<g id=\"node20\" class=\"node\">\n<title>5270359392</title>\n<polygon fill=\"none\" stroke=\"black\" points=\"1974,-108.5 1974,-144.5 2160,-144.5 2160,-108.5 1974,-108.5\"/>\n<text text-anchor=\"middle\" x=\"1984\" y=\"-122.8\" font-family=\"Times,serif\" font-size=\"14.00\"> </text>\n<polyline fill=\"none\" stroke=\"black\" points=\"1994,-108.5 1994,-144.5\"/>\n<text text-anchor=\"middle\" x=\"2034\" y=\"-122.8\" font-family=\"Times,serif\" font-size=\"14.00\">data 6.8284</text>\n<polyline fill=\"none\" stroke=\"black\" points=\"2074,-108.5 2074,-144.5\"/>\n<text text-anchor=\"middle\" x=\"2117\" y=\"-122.8\" font-family=\"Times,serif\" font-size=\"14.00\">grad &#45;0.1036</text>\n</g>\n<!-- 5270359392&#45;&gt;5270358576**&#45;1 -->\n<g id=\"edge17\" class=\"edge\">\n<title>5270359392&#45;&gt;5270358576**&#45;1</title>\n<path fill=\"none\" stroke=\"black\" d=\"M2159.82,-126.5C2191.16,-126.5 2224.45,-126.5 2248.96,-126.5\"/>\n<polygon fill=\"black\" stroke=\"black\" points=\"2248.9,-130 2258.9,-126.5 2248.9,-123 2248.9,-130\"/>\n</g>\n<!-- 5270359392+&#45;&gt;5270359392 -->\n<g id=\"edge8\" class=\"edge\">\n<title>5270359392+&#45;&gt;5270359392</title>\n<path fill=\"none\" stroke=\"black\" d=\"M1938.47,-126.5C1945.83,-126.5 1954.29,-126.5 1963.27,-126.5\"/>\n<polygon fill=\"black\" stroke=\"black\" points=\"1963.03,-130 1973.03,-126.5 1963.03,-123 1963.03,-130\"/>\n</g>\n<!-- 5270370672 -->\n<g id=\"node22\" class=\"node\">\n<title>5270370672</title>\n<polygon fill=\"none\" stroke=\"black\" points=\"1353,-136.5 1353,-172.5 1535,-172.5 1535,-136.5 1353,-136.5\"/>\n<text text-anchor=\"middle\" x=\"1363\" y=\"-150.8\" font-family=\"Times,serif\" font-size=\"14.00\"> </text>\n<polyline fill=\"none\" stroke=\"black\" points=\"1373,-136.5 1373,-172.5\"/>\n<text text-anchor=\"middle\" x=\"1413\" y=\"-150.8\" font-family=\"Times,serif\" font-size=\"14.00\">data 1.7627</text>\n<polyline fill=\"none\" stroke=\"black\" points=\"1453,-136.5 1453,-172.5\"/>\n<text text-anchor=\"middle\" x=\"1494\" y=\"-150.8\" font-family=\"Times,serif\" font-size=\"14.00\">grad 0.2500</text>\n</g>\n<!-- 5270370672&#45;&gt;5270371488exp -->\n<g id=\"edge18\" class=\"edge\">\n<title>5270370672&#45;&gt;5270371488exp</title>\n<path fill=\"none\" stroke=\"black\" d=\"M1534.74,-154.5C1543.55,-154.5 1552.1,-154.5 1559.91,-154.5\"/>\n<polygon fill=\"black\" stroke=\"black\" points=\"1559.75,-158 1569.75,-154.5 1559.75,-151 1559.75,-158\"/>\n</g>\n<!-- 5270370672*&#45;&gt;5270370672 -->\n<g id=\"edge9\" class=\"edge\">\n<title>5270370672*&#45;&gt;5270370672</title>\n<path fill=\"none\" stroke=\"black\" d=\"M1317.48,-154.5C1324.87,-154.5 1333.38,-154.5 1342.4,-154.5\"/>\n<polygon fill=\"black\" stroke=\"black\" points=\"1342.2,-158 1352.2,-154.5 1342.2,-151 1342.2,-158\"/>\n</g>\n<!-- 5270367072 -->\n<g id=\"node24\" class=\"node\">\n<title>5270367072</title>\n<polygon fill=\"none\" stroke=\"black\" points=\"672,-82.5 672,-118.5 916,-118.5 916,-82.5 672,-82.5\"/>\n<text text-anchor=\"middle\" x=\"710.5\" y=\"-96.8\" font-family=\"Times,serif\" font-size=\"14.00\">x1w1x2w2</text>\n<polyline fill=\"none\" stroke=\"black\" points=\"749,-82.5 749,-118.5\"/>\n<text text-anchor=\"middle\" x=\"791.5\" y=\"-96.8\" font-family=\"Times,serif\" font-size=\"14.00\">data &#45;6.0000</text>\n<polyline fill=\"none\" stroke=\"black\" points=\"834,-82.5 834,-118.5\"/>\n<text text-anchor=\"middle\" x=\"875\" y=\"-96.8\" font-family=\"Times,serif\" font-size=\"14.00\">grad 0.5000</text>\n</g>\n<!-- 5270367072&#45;&gt;5270371104+ -->\n<g id=\"edge28\" class=\"edge\">\n<title>5270367072&#45;&gt;5270371104+</title>\n<path fill=\"none\" stroke=\"black\" d=\"M915.79,-118.32C924.93,-119.67 933.64,-120.95 941.48,-122.11\"/>\n<polygon fill=\"black\" stroke=\"black\" points=\"940.91,-125.71 951.32,-123.71 941.94,-118.79 940.91,-125.71\"/>\n</g>\n<!-- 5270367072+&#45;&gt;5270367072 -->\n<g id=\"edge10\" class=\"edge\">\n<title>5270367072+&#45;&gt;5270367072</title>\n<path fill=\"none\" stroke=\"black\" d=\"M636.22,-100.5C643.62,-100.5 652.2,-100.5 661.46,-100.5\"/>\n<polygon fill=\"black\" stroke=\"black\" points=\"661.19,-104 671.19,-100.5 661.19,-97 661.19,-104\"/>\n</g>\n<!-- 5270356368 -->\n<g id=\"node26\" class=\"node\">\n<title>5270356368</title>\n<polygon fill=\"none\" stroke=\"black\" points=\"2.5,-110.5 2.5,-146.5 197.5,-146.5 197.5,-110.5 2.5,-110.5\"/>\n<text text-anchor=\"middle\" x=\"19\" y=\"-124.8\" font-family=\"Times,serif\" font-size=\"14.00\">w2</text>\n<polyline fill=\"none\" stroke=\"black\" points=\"35.5,-110.5 35.5,-146.5\"/>\n<text text-anchor=\"middle\" x=\"75.5\" y=\"-124.8\" font-family=\"Times,serif\" font-size=\"14.00\">data 1.0000</text>\n<polyline fill=\"none\" stroke=\"black\" points=\"115.5,-110.5 115.5,-146.5\"/>\n<text text-anchor=\"middle\" x=\"156.5\" y=\"-124.8\" font-family=\"Times,serif\" font-size=\"14.00\">grad 0.0000</text>\n</g>\n<!-- 5270356368&#45;&gt;5270367312* -->\n<g id=\"edge20\" class=\"edge\">\n<title>5270356368&#45;&gt;5270367312*</title>\n<path fill=\"none\" stroke=\"black\" d=\"M197.44,-128.5C207.11,-128.5 216.46,-128.5 224.9,-128.5\"/>\n<polygon fill=\"black\" stroke=\"black\" points=\"224.79,-132 234.79,-128.5 224.79,-125 224.79,-132\"/>\n</g>\n<!-- 5270356416 -->\n<g id=\"node27\" class=\"node\">\n<title>5270356416</title>\n<polygon fill=\"none\" stroke=\"black\" points=\"0,-0.5 0,-36.5 200,-36.5 200,-0.5 0,-0.5\"/>\n<text text-anchor=\"middle\" x=\"16.5\" y=\"-14.8\" font-family=\"Times,serif\" font-size=\"14.00\">w1</text>\n<polyline fill=\"none\" stroke=\"black\" points=\"33,-0.5 33,-36.5\"/>\n<text text-anchor=\"middle\" x=\"75.5\" y=\"-14.8\" font-family=\"Times,serif\" font-size=\"14.00\">data &#45;3.0000</text>\n<polyline fill=\"none\" stroke=\"black\" points=\"118,-0.5 118,-36.5\"/>\n<text text-anchor=\"middle\" x=\"159\" y=\"-14.8\" font-family=\"Times,serif\" font-size=\"14.00\">grad 1.0000</text>\n</g>\n<!-- 5270356416&#45;&gt;5270366352* -->\n<g id=\"edge22\" class=\"edge\">\n<title>5270356416&#45;&gt;5270366352*</title>\n<path fill=\"none\" stroke=\"black\" d=\"M172.27,-36.48C181.67,-39.28 191.12,-42.3 200,-45.5 210.31,-49.21 221.29,-53.91 231.1,-58.39\"/>\n<polygon fill=\"black\" stroke=\"black\" points=\"229.28,-61.87 239.82,-62.93 232.25,-55.53 229.28,-61.87\"/>\n</g>\n<!-- 5270359536 -->\n<g id=\"node28\" class=\"node\">\n<title>5270359536</title>\n<polygon fill=\"none\" stroke=\"black\" points=\"1661.5,-81.5 1661.5,-117.5 1847.5,-117.5 1847.5,-81.5 1661.5,-81.5\"/>\n<text text-anchor=\"middle\" x=\"1671.5\" y=\"-95.8\" font-family=\"Times,serif\" font-size=\"14.00\"> </text>\n<polyline fill=\"none\" stroke=\"black\" points=\"1681.5,-81.5 1681.5,-117.5\"/>\n<text text-anchor=\"middle\" x=\"1721.5\" y=\"-95.8\" font-family=\"Times,serif\" font-size=\"14.00\">data 1.0000</text>\n<polyline fill=\"none\" stroke=\"black\" points=\"1761.5,-81.5 1761.5,-117.5\"/>\n<text text-anchor=\"middle\" x=\"1804.5\" y=\"-95.8\" font-family=\"Times,serif\" font-size=\"14.00\">grad &#45;0.1036</text>\n</g>\n<!-- 5270359536&#45;&gt;5270359392+ -->\n<g id=\"edge26\" class=\"edge\">\n<title>5270359536&#45;&gt;5270359392+</title>\n<path fill=\"none\" stroke=\"black\" d=\"M1847.16,-115.52C1856.54,-117.16 1865.63,-118.75 1873.84,-120.18\"/>\n<polygon fill=\"black\" stroke=\"black\" points=\"1872.99,-123.76 1883.44,-122.03 1874.2,-116.86 1872.99,-123.76\"/>\n</g>\n</g>\n</svg>\n",
      "text/plain": [
       "<graphviz.graphs.Digraph at 0x13a237d30>"
      ]
     },
     "execution_count": 102,
     "metadata": {},
     "output_type": "execute_result"
    }
   ],
   "source": [
    "# inputs x1, x2\n",
    "x1 = Value(2.0, label='x1')\n",
    "x2 = Value(0.0, label='x2')\n",
    "\n",
    "w1 = Value(-3.0, label='w1')\n",
    "w2 = Value(1.0, label='w2')\n",
    "\n",
    "b = Value(6.88137335870195432, label='b')\n",
    "\n",
    "x1w1 = x1 * w1\n",
    "x1w1.label = 'x1*w1'\n",
    "\n",
    "x2w2 = x2 * w2\n",
    "x2w2.label = 'x2w2'\n",
    "\n",
    "x1w1x2w2 = x1w1 + x2w2\n",
    "x1w1x2w2.label = 'x1w1x2w2'\n",
    "\n",
    "n = x1w1x2w2 + b\n",
    "n.label = 'n'\n",
    "\n",
    "e = (2 * n).exp()\n",
    "o = (e - 1) / (e + 1)\n",
    "o.label = 'o'\n",
    "\n",
    "o.backward()\n",
    "draw_dot(o)\n"
   ]
  },
  {
   "cell_type": "code",
   "execution_count": 104,
   "metadata": {},
   "outputs": [
    {
     "name": "stdout",
     "output_type": "stream",
     "text": [
      "Collecting torch\n",
      "  Using cached torch-2.0.0-cp310-none-macosx_10_9_x86_64.whl (139.8 MB)\n",
      "Collecting networkx\n",
      "  Using cached networkx-3.0-py3-none-any.whl (2.0 MB)\n",
      "Collecting jinja2\n",
      "  Using cached Jinja2-3.1.2-py3-none-any.whl (133 kB)\n",
      "Collecting sympy\n",
      "  Using cached sympy-1.11.1-py3-none-any.whl (6.5 MB)\n",
      "Collecting typing-extensions\n",
      "  Using cached typing_extensions-4.5.0-py3-none-any.whl (27 kB)\n",
      "Collecting filelock\n",
      "  Using cached filelock-3.10.7-py3-none-any.whl (10 kB)\n",
      "Collecting MarkupSafe>=2.0\n",
      "  Using cached MarkupSafe-2.1.2-cp310-cp310-macosx_10_9_x86_64.whl (13 kB)\n",
      "Collecting mpmath>=0.19\n",
      "  Using cached mpmath-1.3.0-py3-none-any.whl (536 kB)\n",
      "Installing collected packages: mpmath, typing-extensions, sympy, networkx, MarkupSafe, filelock, jinja2, torch\n",
      "Successfully installed MarkupSafe-2.1.2 filelock-3.10.7 jinja2-3.1.2 mpmath-1.3.0 networkx-3.0 sympy-1.11.1 torch-2.0.0 typing-extensions-4.5.0\n"
     ]
    }
   ],
   "source": [
    "!pip install torch"
   ]
  },
  {
   "cell_type": "code",
   "execution_count": 105,
   "metadata": {},
   "outputs": [
    {
     "name": "stdout",
     "output_type": "stream",
     "text": [
      "0.7069886534797297\n",
      "---\n",
      "x2 0.5001670438509187\n",
      "w2 0.0\n",
      "x1 -1.500501131552756\n",
      "w1 1.0003340877018374\n"
     ]
    }
   ],
   "source": [
    "import torch\n",
    "\n",
    "x1 = torch.Tensor([2.0]).double()\n",
    "x1.requires_grad = True\n",
    "x2 = torch.Tensor([0.0]).double()\n",
    "x2.requires_grad = True\n",
    "w1 = torch.Tensor([-3.0]).double()\n",
    "w1.requires_grad = True\n",
    "w2 = torch.Tensor([1.0]).double()\n",
    "w2.requires_grad = True\n",
    "b = torch.Tensor([6.88113735870195432]).double()\n",
    "b.requires_grad = True\n",
    "n = x1 * w1 + x2 * w2 + b\n",
    "o = torch.tanh(n)\n",
    "\n",
    "print(o.data.item())\n",
    "o.backward()\n",
    "\n",
    "print('---')\n",
    "print('x2', x2.grad.item())\n",
    "print('w2', w2.grad.item())\n",
    "print('x1', x1.grad.item())\n",
    "print('w1', w1.grad.item())\n"
   ]
  }
 ],
 "metadata": {
  "kernelspec": {
   "display_name": "Python 3",
   "language": "python",
   "name": "python3"
  },
  "language_info": {
   "codemirror_mode": {
    "name": "ipython",
    "version": 3
   },
   "file_extension": ".py",
   "mimetype": "text/x-python",
   "name": "python",
   "nbconvert_exporter": "python",
   "pygments_lexer": "ipython3",
   "version": "3.10.7"
  },
  "orig_nbformat": 4
 },
 "nbformat": 4,
 "nbformat_minor": 2
}
